{
  "nbformat": 4,
  "nbformat_minor": 0,
  "metadata": {
    "colab": {
      "provenance": [],
      "include_colab_link": true
    },
    "kernelspec": {
      "name": "python3",
      "display_name": "Python 3"
    },
    "language_info": {
      "name": "python"
    }
  },
  "cells": [
    {
      "cell_type": "markdown",
      "metadata": {
        "id": "view-in-github",
        "colab_type": "text"
      },
      "source": [
        "<a href=\"https://colab.research.google.com/github/IshtiSikder/CNN-model-for-security-analysis-of-power-systems/blob/main/513_final_project_replicating_results.ipynb\" target=\"_parent\"><img src=\"https://colab.research.google.com/assets/colab-badge.svg\" alt=\"Open In Colab\"/></a>"
      ]
    },
    {
      "cell_type": "code",
      "execution_count": 568,
      "metadata": {
        "colab": {
          "base_uri": "https://localhost:8080/"
        },
        "id": "FQcIdonUSA_7",
        "outputId": "a36200a6-4c6a-44ff-d586-5083efa612bc"
      },
      "outputs": [
        {
          "output_type": "stream",
          "name": "stdout",
          "text": [
            "Looking in indexes: https://pypi.org/simple, https://us-python.pkg.dev/colab-wheels/public/simple/\n",
            "Requirement already satisfied: gurobipy in /usr/local/lib/python3.8/dist-packages (10.0.0)\n"
          ]
        }
      ],
      "source": [
        "#Install gurobi\n",
        "!pip install gurobipy"
      ]
    },
    {
      "cell_type": "code",
      "source": [
        "#Import necessary libraries\n",
        "import sys\n",
        "import numpy as np\n",
        "import pandas as pd\n",
        "from numpy import linalg as la\n",
        "import gurobipy as gp\n",
        "from gurobipy import *"
      ],
      "metadata": {
        "id": "jzExF7GdSC_W"
      },
      "execution_count": 569,
      "outputs": []
    },
    {
      "cell_type": "code",
      "source": [
        "#Activate gurobi license (only if run on google colab)\n",
        "e = gp.Env(empty=True)\n",
        "e.setParam('WLSACCESSID', 'dcee8c55-6742-4816-bae1-a0742c8f71a9')\n",
        "e.setParam('WLSSECRET', '70f89e9f-2426-41b9-abe7-88c4b6090a45')\n",
        "e.setParam('LICENSEID',820825)\n",
        "e.start()"
      ],
      "metadata": {
        "colab": {
          "base_uri": "https://localhost:8080/"
        },
        "id": "JH-2qg-8SItd",
        "outputId": "dc5443c0-daea-4c76-f6e2-f935b384d27e"
      },
      "execution_count": 570,
      "outputs": [
        {
          "output_type": "stream",
          "name": "stdout",
          "text": [
            "Set parameter WLSAccessID\n",
            "Set parameter WLSSecret\n",
            "Set parameter LicenseID to value 820825\n",
            "Academic license - for non-commercial use only - registered to isikder@uncc.edu\n"
          ]
        },
        {
          "output_type": "execute_result",
          "data": {
            "text/plain": [
              "<gurobipy.Env, Parameter changes: WLSAccessID=(user-defined), WLSSecret=(user-defined), LicenseID=820825>"
            ]
          },
          "metadata": {},
          "execution_count": 570
        }
      ]
    },
    {
      "cell_type": "code",
      "source": [
        "#Setup the optimization model\n",
        "New_Model = gp.Model(\"New Model\",env=e) "
      ],
      "metadata": {
        "id": "BkGZ5C8fSMVV"
      },
      "execution_count": 571,
      "outputs": []
    },
    {
      "cell_type": "code",
      "source": [
        "data = pd.DataFrame({'pre-demand':[100,150,0,0,0,0],'pre-demand prob':[0.5,0.5,0,0,0,0],'demand':[650,750,850,950,1050,1150],'demand prob':[0.17,0.27,0.23,0.17,0.12,0.04]})\n",
        "data"
      ],
      "metadata": {
        "colab": {
          "base_uri": "https://localhost:8080/",
          "height": 238
        },
        "id": "q74WMxR3lxaa",
        "outputId": "6e489ce9-d914-4f0d-fb15-d09ad10ed6b9"
      },
      "execution_count": 572,
      "outputs": [
        {
          "output_type": "execute_result",
          "data": {
            "text/plain": [
              "   pre-demand  pre-demand prob  demand  demand prob\n",
              "0         100              0.5     650         0.17\n",
              "1         150              0.5     750         0.27\n",
              "2           0              0.0     850         0.23\n",
              "3           0              0.0     950         0.17\n",
              "4           0              0.0    1050         0.12\n",
              "5           0              0.0    1150         0.04"
            ],
            "text/html": [
              "\n",
              "  <div id=\"df-dfda2e4b-8759-4b2b-8801-0f5e45bc9d74\">\n",
              "    <div class=\"colab-df-container\">\n",
              "      <div>\n",
              "<style scoped>\n",
              "    .dataframe tbody tr th:only-of-type {\n",
              "        vertical-align: middle;\n",
              "    }\n",
              "\n",
              "    .dataframe tbody tr th {\n",
              "        vertical-align: top;\n",
              "    }\n",
              "\n",
              "    .dataframe thead th {\n",
              "        text-align: right;\n",
              "    }\n",
              "</style>\n",
              "<table border=\"1\" class=\"dataframe\">\n",
              "  <thead>\n",
              "    <tr style=\"text-align: right;\">\n",
              "      <th></th>\n",
              "      <th>pre-demand</th>\n",
              "      <th>pre-demand prob</th>\n",
              "      <th>demand</th>\n",
              "      <th>demand prob</th>\n",
              "    </tr>\n",
              "  </thead>\n",
              "  <tbody>\n",
              "    <tr>\n",
              "      <th>0</th>\n",
              "      <td>100</td>\n",
              "      <td>0.5</td>\n",
              "      <td>650</td>\n",
              "      <td>0.17</td>\n",
              "    </tr>\n",
              "    <tr>\n",
              "      <th>1</th>\n",
              "      <td>150</td>\n",
              "      <td>0.5</td>\n",
              "      <td>750</td>\n",
              "      <td>0.27</td>\n",
              "    </tr>\n",
              "    <tr>\n",
              "      <th>2</th>\n",
              "      <td>0</td>\n",
              "      <td>0.0</td>\n",
              "      <td>850</td>\n",
              "      <td>0.23</td>\n",
              "    </tr>\n",
              "    <tr>\n",
              "      <th>3</th>\n",
              "      <td>0</td>\n",
              "      <td>0.0</td>\n",
              "      <td>950</td>\n",
              "      <td>0.17</td>\n",
              "    </tr>\n",
              "    <tr>\n",
              "      <th>4</th>\n",
              "      <td>0</td>\n",
              "      <td>0.0</td>\n",
              "      <td>1050</td>\n",
              "      <td>0.12</td>\n",
              "    </tr>\n",
              "    <tr>\n",
              "      <th>5</th>\n",
              "      <td>0</td>\n",
              "      <td>0.0</td>\n",
              "      <td>1150</td>\n",
              "      <td>0.04</td>\n",
              "    </tr>\n",
              "  </tbody>\n",
              "</table>\n",
              "</div>\n",
              "      <button class=\"colab-df-convert\" onclick=\"convertToInteractive('df-dfda2e4b-8759-4b2b-8801-0f5e45bc9d74')\"\n",
              "              title=\"Convert this dataframe to an interactive table.\"\n",
              "              style=\"display:none;\">\n",
              "        \n",
              "  <svg xmlns=\"http://www.w3.org/2000/svg\" height=\"24px\"viewBox=\"0 0 24 24\"\n",
              "       width=\"24px\">\n",
              "    <path d=\"M0 0h24v24H0V0z\" fill=\"none\"/>\n",
              "    <path d=\"M18.56 5.44l.94 2.06.94-2.06 2.06-.94-2.06-.94-.94-2.06-.94 2.06-2.06.94zm-11 1L8.5 8.5l.94-2.06 2.06-.94-2.06-.94L8.5 2.5l-.94 2.06-2.06.94zm10 10l.94 2.06.94-2.06 2.06-.94-2.06-.94-.94-2.06-.94 2.06-2.06.94z\"/><path d=\"M17.41 7.96l-1.37-1.37c-.4-.4-.92-.59-1.43-.59-.52 0-1.04.2-1.43.59L10.3 9.45l-7.72 7.72c-.78.78-.78 2.05 0 2.83L4 21.41c.39.39.9.59 1.41.59.51 0 1.02-.2 1.41-.59l7.78-7.78 2.81-2.81c.8-.78.8-2.07 0-2.86zM5.41 20L4 18.59l7.72-7.72 1.47 1.35L5.41 20z\"/>\n",
              "  </svg>\n",
              "      </button>\n",
              "      \n",
              "  <style>\n",
              "    .colab-df-container {\n",
              "      display:flex;\n",
              "      flex-wrap:wrap;\n",
              "      gap: 12px;\n",
              "    }\n",
              "\n",
              "    .colab-df-convert {\n",
              "      background-color: #E8F0FE;\n",
              "      border: none;\n",
              "      border-radius: 50%;\n",
              "      cursor: pointer;\n",
              "      display: none;\n",
              "      fill: #1967D2;\n",
              "      height: 32px;\n",
              "      padding: 0 0 0 0;\n",
              "      width: 32px;\n",
              "    }\n",
              "\n",
              "    .colab-df-convert:hover {\n",
              "      background-color: #E2EBFA;\n",
              "      box-shadow: 0px 1px 2px rgba(60, 64, 67, 0.3), 0px 1px 3px 1px rgba(60, 64, 67, 0.15);\n",
              "      fill: #174EA6;\n",
              "    }\n",
              "\n",
              "    [theme=dark] .colab-df-convert {\n",
              "      background-color: #3B4455;\n",
              "      fill: #D2E3FC;\n",
              "    }\n",
              "\n",
              "    [theme=dark] .colab-df-convert:hover {\n",
              "      background-color: #434B5C;\n",
              "      box-shadow: 0px 1px 3px 1px rgba(0, 0, 0, 0.15);\n",
              "      filter: drop-shadow(0px 1px 2px rgba(0, 0, 0, 0.3));\n",
              "      fill: #FFFFFF;\n",
              "    }\n",
              "  </style>\n",
              "\n",
              "      <script>\n",
              "        const buttonEl =\n",
              "          document.querySelector('#df-dfda2e4b-8759-4b2b-8801-0f5e45bc9d74 button.colab-df-convert');\n",
              "        buttonEl.style.display =\n",
              "          google.colab.kernel.accessAllowed ? 'block' : 'none';\n",
              "\n",
              "        async function convertToInteractive(key) {\n",
              "          const element = document.querySelector('#df-dfda2e4b-8759-4b2b-8801-0f5e45bc9d74');\n",
              "          const dataTable =\n",
              "            await google.colab.kernel.invokeFunction('convertToInteractive',\n",
              "                                                     [key], {});\n",
              "          if (!dataTable) return;\n",
              "\n",
              "          const docLinkHtml = 'Like what you see? Visit the ' +\n",
              "            '<a target=\"_blank\" href=https://colab.research.google.com/notebooks/data_table.ipynb>data table notebook</a>'\n",
              "            + ' to learn more about interactive tables.';\n",
              "          element.innerHTML = '';\n",
              "          dataTable['output_type'] = 'display_data';\n",
              "          await google.colab.output.renderOutput(dataTable, element);\n",
              "          const docLink = document.createElement('div');\n",
              "          docLink.innerHTML = docLinkHtml;\n",
              "          element.appendChild(docLink);\n",
              "        }\n",
              "      </script>\n",
              "    </div>\n",
              "  </div>\n",
              "  "
            ]
          },
          "metadata": {},
          "execution_count": 572
        }
      ]
    },
    {
      "cell_type": "code",
      "source": [
        "K = range(1,37)\n",
        "T = [1,2]"
      ],
      "metadata": {
        "id": "rq5vPXCGTxLX"
      },
      "execution_count": 573,
      "outputs": []
    },
    {
      "cell_type": "code",
      "source": [
        "Q = New_Model.addVars(K,T,lb=0,vtype=GRB.INTEGER)\n",
        "v = New_Model.addVars(K,[0,1,2],lb=0,vtype=GRB.INTEGER)\n",
        "u = New_Model.addVars(K,T,lb=0,vtype=GRB.INTEGER)\n",
        "x = New_Model.addVars(K,T,lb=0,vtype=GRB.INTEGER)\n",
        "q = New_Model.addVars(K,T,lb=0,vtype=GRB.INTEGER)\n",
        "c = New_Model.addVars(T,lb=0,vtype=GRB.INTEGER)\n",
        "h = New_Model.addVars(T,lb=0,vtype=GRB.INTEGER)\n",
        "s = New_Model.addVars(T,lb=0,vtype=GRB.INTEGER)"
      ],
      "metadata": {
        "id": "5eygADrhSaWn"
      },
      "execution_count": 574,
      "outputs": []
    },
    {
      "cell_type": "code",
      "source": [
        "for k in K:\n",
        "  for t in T:\n",
        "      if 1<=k<=6:\n",
        "        x[k,t]=data['demand'][0] + np.random.choice(list(data['pre-demand'])[:2], 1, list(data['pre-demand prob'])[:2])[0]\n",
        "        q[k,t]=data['demand prob'][0]\n",
        "      elif 7<=k<=12:\n",
        "        x[k,t]=data['demand'][1] + np.random.choice(list(data['pre-demand'])[:2], 1, list(data['pre-demand prob'])[:2])[0]\n",
        "        q[k,t]=data['demand prob'][1]\n",
        "      elif 13<=k<=18:\n",
        "        x[k,t]=data['demand'][2] + np.random.choice(list(data['pre-demand'])[:2], 1, list(data['pre-demand prob'])[:2])[0]\n",
        "        q[k,t]=data['demand prob'][2]\n",
        "      elif 19<=k<=24:\n",
        "        x[k,t]=data['demand'][3] + np.random.choice(list(data['pre-demand'])[:2], 1, list(data['pre-demand prob'])[:2])[0]\n",
        "        q[k,t]=data['demand prob'][3]\n",
        "      elif 25<=k<=30:\n",
        "        x[k,t]=data['demand'][4] + np.random.choice(list(data['pre-demand'])[:2], 1, list(data['pre-demand prob'])[:2])[0]\n",
        "        q[k,t]=data['demand prob'][4]\n",
        "      else:\n",
        "        x[k,t]=data['demand'][5] + np.random.choice(list(data['pre-demand'])[:2], 1, list(data['pre-demand prob'])[:2])[0]\n",
        "        q[k,t]=data['demand prob'][5]\n",
        "'''  \n",
        "    else:\n",
        "        x[k,t] = np.random.choice(list(data['pre-demand'])[:2], 1, list(data['pre-demand prob'])[:2])[0]\n",
        "        q[k,t] = data.loc[data.index[data['pre-demand']==x[k,t]].tolist()[0],'pre-demand prob']\n",
        "'''"
      ],
      "metadata": {
        "colab": {
          "base_uri": "https://localhost:8080/",
          "height": 53
        },
        "id": "O7iSXbLIV_0J",
        "outputId": "f61a737a-ddbf-42bc-9874-d061db8ea69b"
      },
      "execution_count": 575,
      "outputs": [
        {
          "output_type": "execute_result",
          "data": {
            "text/plain": [
              "\"  \\n    else:\\n        x[k,t] = np.random.choice(list(data['pre-demand'])[:2], 1, list(data['pre-demand prob'])[:2])[0]\\n        q[k,t] = data.loc[data.index[data['pre-demand']==x[k,t]].tolist()[0],'pre-demand prob']\\n\""
            ],
            "application/vnd.google.colaboratory.intrinsic+json": {
              "type": "string"
            }
          },
          "metadata": {},
          "execution_count": 575
        }
      ]
    },
    {
      "cell_type": "code",
      "source": [
        "Q_prime = New_Model.addVars([1,2],[0,1,2,3,4,5,6],lb=0,vtype=GRB.INTEGER)\n",
        "u_prime = New_Model.addVars([2],[1,2,3,4,5,6],lb=0,vtype=GRB.INTEGER)\n",
        "v_prime = New_Model.addVars([2],[1,2,3,4,5,6],lb=0,vtype=GRB.INTEGER)"
      ],
      "metadata": {
        "id": "FKui9Bc-sqgl"
      },
      "execution_count": 576,
      "outputs": []
    },
    {
      "cell_type": "code",
      "source": [
        "#bin = New_Model.addVars(K,[0,1,2],vtype=GRB.BINARY)"
      ],
      "metadata": {
        "id": "o6JQKnvip4uB"
      },
      "execution_count": 577,
      "outputs": []
    },
    {
      "cell_type": "code",
      "source": [
        "c[1] = 30\n",
        "c[2] = 4*c[1]\n",
        "s[1] = 300\n",
        "s[2] = s[1]\n",
        "\n",
        "for t in T:\n",
        "  h[t] = c[t]/2"
      ],
      "metadata": {
        "id": "qJfyqt6mtg9M"
      },
      "execution_count": 578,
      "outputs": []
    },
    {
      "cell_type": "code",
      "source": [
        "'''\n",
        "for k in K:\n",
        "  for t in T:\n",
        "    if t == 1:\n",
        "      x[k,t] = np.random.choice(list(data['pre-demand'])[:2], 1, list(data['pre-demand prob'])[:2])[0]\n",
        "      q[k,t] = data.loc[data.index[data['pre-demand']==x[k,t]].tolist()[0],'pre-demand prob']\n",
        "    else:\n",
        "      x[k,t] = np.random.choice(list(data['demand']), 1, list(data['demand prob']))[0]\n",
        "      q[k,t] = data.loc[data.index[data['demand']==x[k,t]].tolist()[0],'demand prob']\n",
        "'''"
      ],
      "metadata": {
        "id": "PufrQwSWTpaG",
        "colab": {
          "base_uri": "https://localhost:8080/",
          "height": 71
        },
        "outputId": "35cbba6a-ae1c-4c25-9348-2c415676810e"
      },
      "execution_count": 579,
      "outputs": [
        {
          "output_type": "execute_result",
          "data": {
            "text/plain": [
              "\"\\nfor k in K:\\n  for t in T:\\n    if t == 1:\\n      x[k,t] = np.random.choice(list(data['pre-demand'])[:2], 1, list(data['pre-demand prob'])[:2])[0]\\n      q[k,t] = data.loc[data.index[data['pre-demand']==x[k,t]].tolist()[0],'pre-demand prob']\\n    else:\\n      x[k,t] = np.random.choice(list(data['demand']), 1, list(data['demand prob']))[0]\\n      q[k,t] = data.loc[data.index[data['demand']==x[k,t]].tolist()[0],'demand prob']\\n\""
            ],
            "application/vnd.google.colaboratory.intrinsic+json": {
              "type": "string"
            }
          },
          "metadata": {},
          "execution_count": 579
        }
      ]
    },
    {
      "cell_type": "code",
      "source": [
        "New_Model.addConstrs(v[k,0]==0 for k in K)\n",
        "#New_Model.addConstrs(bin[k,0]==0 for k in K)\n",
        "#New_Model.addConstrs(bin[k,2]== bin[k,1]for k in K)"
      ],
      "metadata": {
        "colab": {
          "base_uri": "https://localhost:8080/"
        },
        "id": "IYk5A2T6Wqnv",
        "outputId": "69afa5d9-6d0e-4fc8-ab38-43d3f7d8a41f"
      },
      "execution_count": 580,
      "outputs": [
        {
          "output_type": "execute_result",
          "data": {
            "text/plain": [
              "{1: <gurobi.Constr *Awaiting Model Update*>,\n",
              " 2: <gurobi.Constr *Awaiting Model Update*>,\n",
              " 3: <gurobi.Constr *Awaiting Model Update*>,\n",
              " 4: <gurobi.Constr *Awaiting Model Update*>,\n",
              " 5: <gurobi.Constr *Awaiting Model Update*>,\n",
              " 6: <gurobi.Constr *Awaiting Model Update*>,\n",
              " 7: <gurobi.Constr *Awaiting Model Update*>,\n",
              " 8: <gurobi.Constr *Awaiting Model Update*>,\n",
              " 9: <gurobi.Constr *Awaiting Model Update*>,\n",
              " 10: <gurobi.Constr *Awaiting Model Update*>,\n",
              " 11: <gurobi.Constr *Awaiting Model Update*>,\n",
              " 12: <gurobi.Constr *Awaiting Model Update*>,\n",
              " 13: <gurobi.Constr *Awaiting Model Update*>,\n",
              " 14: <gurobi.Constr *Awaiting Model Update*>,\n",
              " 15: <gurobi.Constr *Awaiting Model Update*>,\n",
              " 16: <gurobi.Constr *Awaiting Model Update*>,\n",
              " 17: <gurobi.Constr *Awaiting Model Update*>,\n",
              " 18: <gurobi.Constr *Awaiting Model Update*>,\n",
              " 19: <gurobi.Constr *Awaiting Model Update*>,\n",
              " 20: <gurobi.Constr *Awaiting Model Update*>,\n",
              " 21: <gurobi.Constr *Awaiting Model Update*>,\n",
              " 22: <gurobi.Constr *Awaiting Model Update*>,\n",
              " 23: <gurobi.Constr *Awaiting Model Update*>,\n",
              " 24: <gurobi.Constr *Awaiting Model Update*>,\n",
              " 25: <gurobi.Constr *Awaiting Model Update*>,\n",
              " 26: <gurobi.Constr *Awaiting Model Update*>,\n",
              " 27: <gurobi.Constr *Awaiting Model Update*>,\n",
              " 28: <gurobi.Constr *Awaiting Model Update*>,\n",
              " 29: <gurobi.Constr *Awaiting Model Update*>,\n",
              " 30: <gurobi.Constr *Awaiting Model Update*>,\n",
              " 31: <gurobi.Constr *Awaiting Model Update*>,\n",
              " 32: <gurobi.Constr *Awaiting Model Update*>,\n",
              " 33: <gurobi.Constr *Awaiting Model Update*>,\n",
              " 34: <gurobi.Constr *Awaiting Model Update*>,\n",
              " 35: <gurobi.Constr *Awaiting Model Update*>,\n",
              " 36: <gurobi.Constr *Awaiting Model Update*>}"
            ]
          },
          "metadata": {},
          "execution_count": 580
        }
      ]
    },
    {
      "cell_type": "code",
      "source": [
        "New_Model.addConstrs(Q[k,1] == Q_prime[1,0] for k in K)\n",
        "New_Model.addConstrs(Q[k,2] == Q_prime[2,1] for k in K[:6])\n",
        "New_Model.addConstrs(Q[k,2] == Q_prime[2,2] for k in K[6:12])\n",
        "New_Model.addConstrs(Q[k,2] == Q_prime[2,3] for k in K[12:18])\n",
        "New_Model.addConstrs(Q[k,2] == Q_prime[2,4] for k in K[18:24])\n",
        "New_Model.addConstrs(Q[k,2] == Q_prime[2,5] for k in K[24:30])\n",
        "New_Model.addConstrs(Q[k,2] == Q_prime[2,6] for k in K[30:36])"
      ],
      "metadata": {
        "id": "2i4kcnSIU9QQ",
        "colab": {
          "base_uri": "https://localhost:8080/"
        },
        "outputId": "3dc55d3d-bd78-45a0-a52e-6e4990a2c9ec"
      },
      "execution_count": 581,
      "outputs": [
        {
          "output_type": "execute_result",
          "data": {
            "text/plain": [
              "{31: <gurobi.Constr *Awaiting Model Update*>,\n",
              " 32: <gurobi.Constr *Awaiting Model Update*>,\n",
              " 33: <gurobi.Constr *Awaiting Model Update*>,\n",
              " 34: <gurobi.Constr *Awaiting Model Update*>,\n",
              " 35: <gurobi.Constr *Awaiting Model Update*>,\n",
              " 36: <gurobi.Constr *Awaiting Model Update*>}"
            ]
          },
          "metadata": {},
          "execution_count": 581
        }
      ]
    },
    {
      "cell_type": "code",
      "source": [
        "New_Model.addConstrs(u[k,2] == u_prime[2,1] for k in K[:6])\n",
        "New_Model.addConstrs(u[k,2] == u_prime[2,2] for k in K[6:12])\n",
        "New_Model.addConstrs(u[k,2] == u_prime[2,3] for k in K[12:18])\n",
        "New_Model.addConstrs(u[k,2] == u_prime[2,4] for k in K[18:24])\n",
        "New_Model.addConstrs(u[k,2] == u_prime[2,5] for k in K[24:30])\n",
        "New_Model.addConstrs(u[k,2] == u_prime[2,6] for k in K[30:36])"
      ],
      "metadata": {
        "colab": {
          "base_uri": "https://localhost:8080/"
        },
        "id": "8r0AI8j9MZnD",
        "outputId": "77802661-0330-4734-c40c-e1dd12d8e080"
      },
      "execution_count": 582,
      "outputs": [
        {
          "output_type": "execute_result",
          "data": {
            "text/plain": [
              "{31: <gurobi.Constr *Awaiting Model Update*>,\n",
              " 32: <gurobi.Constr *Awaiting Model Update*>,\n",
              " 33: <gurobi.Constr *Awaiting Model Update*>,\n",
              " 34: <gurobi.Constr *Awaiting Model Update*>,\n",
              " 35: <gurobi.Constr *Awaiting Model Update*>,\n",
              " 36: <gurobi.Constr *Awaiting Model Update*>}"
            ]
          },
          "metadata": {},
          "execution_count": 582
        }
      ]
    },
    {
      "cell_type": "code",
      "source": [
        "New_Model.addConstrs(v[k,2] == v_prime[2,1] for k in K[:6])\n",
        "New_Model.addConstrs(v[k,2] == v_prime[2,2] for k in K[6:12])\n",
        "New_Model.addConstrs(v[k,2] == v_prime[2,3] for k in K[12:18])\n",
        "New_Model.addConstrs(v[k,2] == v_prime[2,4] for k in K[18:24])\n",
        "New_Model.addConstrs(v[k,2] == v_prime[2,5] for k in K[24:30])\n",
        "New_Model.addConstrs(v[k,2] == v_prime[2,6] for k in K[30:36])"
      ],
      "metadata": {
        "colab": {
          "base_uri": "https://localhost:8080/"
        },
        "id": "Qx2aCt9JM6Q3",
        "outputId": "afd3948d-133d-4c6e-a976-c95b190f8282"
      },
      "execution_count": 583,
      "outputs": [
        {
          "output_type": "execute_result",
          "data": {
            "text/plain": [
              "{31: <gurobi.Constr *Awaiting Model Update*>,\n",
              " 32: <gurobi.Constr *Awaiting Model Update*>,\n",
              " 33: <gurobi.Constr *Awaiting Model Update*>,\n",
              " 34: <gurobi.Constr *Awaiting Model Update*>,\n",
              " 35: <gurobi.Constr *Awaiting Model Update*>,\n",
              " 36: <gurobi.Constr *Awaiting Model Update*>}"
            ]
          },
          "metadata": {},
          "execution_count": 583
        }
      ]
    },
    {
      "cell_type": "code",
      "source": [
        "#New_Model.addConstrs(Q[k,t]+bin[k,t-1]*v[k,t-1]+(1-bin[k,t])*u[k,t]-bin[k,t]*v[k,t] == x[k,t] for k in K for t in T)"
      ],
      "metadata": {
        "id": "4fYML5bGPQ9_"
      },
      "execution_count": 584,
      "outputs": []
    },
    {
      "cell_type": "code",
      "source": [
        "New_Model.addConstrs(Q[k,t]+v[k,t-1]+u[k,t]-v[k,t] == x[k,t] for k in K for t in T)"
      ],
      "metadata": {
        "colab": {
          "base_uri": "https://localhost:8080/"
        },
        "id": "SyqHU-BA_t2F",
        "outputId": "d7abf9c2-74d6-4dce-f75c-f72783377d3f"
      },
      "execution_count": 585,
      "outputs": [
        {
          "output_type": "execute_result",
          "data": {
            "text/plain": [
              "{(1, 1): <gurobi.Constr *Awaiting Model Update*>,\n",
              " (1, 2): <gurobi.Constr *Awaiting Model Update*>,\n",
              " (2, 1): <gurobi.Constr *Awaiting Model Update*>,\n",
              " (2, 2): <gurobi.Constr *Awaiting Model Update*>,\n",
              " (3, 1): <gurobi.Constr *Awaiting Model Update*>,\n",
              " (3, 2): <gurobi.Constr *Awaiting Model Update*>,\n",
              " (4, 1): <gurobi.Constr *Awaiting Model Update*>,\n",
              " (4, 2): <gurobi.Constr *Awaiting Model Update*>,\n",
              " (5, 1): <gurobi.Constr *Awaiting Model Update*>,\n",
              " (5, 2): <gurobi.Constr *Awaiting Model Update*>,\n",
              " (6, 1): <gurobi.Constr *Awaiting Model Update*>,\n",
              " (6, 2): <gurobi.Constr *Awaiting Model Update*>,\n",
              " (7, 1): <gurobi.Constr *Awaiting Model Update*>,\n",
              " (7, 2): <gurobi.Constr *Awaiting Model Update*>,\n",
              " (8, 1): <gurobi.Constr *Awaiting Model Update*>,\n",
              " (8, 2): <gurobi.Constr *Awaiting Model Update*>,\n",
              " (9, 1): <gurobi.Constr *Awaiting Model Update*>,\n",
              " (9, 2): <gurobi.Constr *Awaiting Model Update*>,\n",
              " (10, 1): <gurobi.Constr *Awaiting Model Update*>,\n",
              " (10, 2): <gurobi.Constr *Awaiting Model Update*>,\n",
              " (11, 1): <gurobi.Constr *Awaiting Model Update*>,\n",
              " (11, 2): <gurobi.Constr *Awaiting Model Update*>,\n",
              " (12, 1): <gurobi.Constr *Awaiting Model Update*>,\n",
              " (12, 2): <gurobi.Constr *Awaiting Model Update*>,\n",
              " (13, 1): <gurobi.Constr *Awaiting Model Update*>,\n",
              " (13, 2): <gurobi.Constr *Awaiting Model Update*>,\n",
              " (14, 1): <gurobi.Constr *Awaiting Model Update*>,\n",
              " (14, 2): <gurobi.Constr *Awaiting Model Update*>,\n",
              " (15, 1): <gurobi.Constr *Awaiting Model Update*>,\n",
              " (15, 2): <gurobi.Constr *Awaiting Model Update*>,\n",
              " (16, 1): <gurobi.Constr *Awaiting Model Update*>,\n",
              " (16, 2): <gurobi.Constr *Awaiting Model Update*>,\n",
              " (17, 1): <gurobi.Constr *Awaiting Model Update*>,\n",
              " (17, 2): <gurobi.Constr *Awaiting Model Update*>,\n",
              " (18, 1): <gurobi.Constr *Awaiting Model Update*>,\n",
              " (18, 2): <gurobi.Constr *Awaiting Model Update*>,\n",
              " (19, 1): <gurobi.Constr *Awaiting Model Update*>,\n",
              " (19, 2): <gurobi.Constr *Awaiting Model Update*>,\n",
              " (20, 1): <gurobi.Constr *Awaiting Model Update*>,\n",
              " (20, 2): <gurobi.Constr *Awaiting Model Update*>,\n",
              " (21, 1): <gurobi.Constr *Awaiting Model Update*>,\n",
              " (21, 2): <gurobi.Constr *Awaiting Model Update*>,\n",
              " (22, 1): <gurobi.Constr *Awaiting Model Update*>,\n",
              " (22, 2): <gurobi.Constr *Awaiting Model Update*>,\n",
              " (23, 1): <gurobi.Constr *Awaiting Model Update*>,\n",
              " (23, 2): <gurobi.Constr *Awaiting Model Update*>,\n",
              " (24, 1): <gurobi.Constr *Awaiting Model Update*>,\n",
              " (24, 2): <gurobi.Constr *Awaiting Model Update*>,\n",
              " (25, 1): <gurobi.Constr *Awaiting Model Update*>,\n",
              " (25, 2): <gurobi.Constr *Awaiting Model Update*>,\n",
              " (26, 1): <gurobi.Constr *Awaiting Model Update*>,\n",
              " (26, 2): <gurobi.Constr *Awaiting Model Update*>,\n",
              " (27, 1): <gurobi.Constr *Awaiting Model Update*>,\n",
              " (27, 2): <gurobi.Constr *Awaiting Model Update*>,\n",
              " (28, 1): <gurobi.Constr *Awaiting Model Update*>,\n",
              " (28, 2): <gurobi.Constr *Awaiting Model Update*>,\n",
              " (29, 1): <gurobi.Constr *Awaiting Model Update*>,\n",
              " (29, 2): <gurobi.Constr *Awaiting Model Update*>,\n",
              " (30, 1): <gurobi.Constr *Awaiting Model Update*>,\n",
              " (30, 2): <gurobi.Constr *Awaiting Model Update*>,\n",
              " (31, 1): <gurobi.Constr *Awaiting Model Update*>,\n",
              " (31, 2): <gurobi.Constr *Awaiting Model Update*>,\n",
              " (32, 1): <gurobi.Constr *Awaiting Model Update*>,\n",
              " (32, 2): <gurobi.Constr *Awaiting Model Update*>,\n",
              " (33, 1): <gurobi.Constr *Awaiting Model Update*>,\n",
              " (33, 2): <gurobi.Constr *Awaiting Model Update*>,\n",
              " (34, 1): <gurobi.Constr *Awaiting Model Update*>,\n",
              " (34, 2): <gurobi.Constr *Awaiting Model Update*>,\n",
              " (35, 1): <gurobi.Constr *Awaiting Model Update*>,\n",
              " (35, 2): <gurobi.Constr *Awaiting Model Update*>,\n",
              " (36, 1): <gurobi.Constr *Awaiting Model Update*>,\n",
              " (36, 2): <gurobi.Constr *Awaiting Model Update*>}"
            ]
          },
          "metadata": {},
          "execution_count": 585
        }
      ]
    },
    {
      "cell_type": "code",
      "source": [
        "obj = 0\n",
        "\n",
        "for t in T:\n",
        "  for k in K:\n",
        "    obj += q[k,t]*(c[t]*Q[k,t] + h[t]*v[k,t] + s[t]*u[k,t])\n",
        "\n",
        "New_Model.setObjective(obj, GRB.MINIMIZE)\n",
        "New_Model.optimize()\n",
        "\n",
        "\n",
        "print('Obj: %g' % New_Model.ObjVal)"
      ],
      "metadata": {
        "colab": {
          "base_uri": "https://localhost:8080/"
        },
        "id": "yhyht_VbvHx5",
        "outputId": "693d92be-32a6-4c07-a7b4-b8c6e49ce8ba"
      },
      "execution_count": 586,
      "outputs": [
        {
          "output_type": "stream",
          "name": "stdout",
          "text": [
            "Gurobi Optimizer version 10.0.0 build v10.0.0rc2 (linux64)\n",
            "\n",
            "CPU model: Intel(R) Xeon(R) CPU @ 2.20GHz, instruction set [SSE2|AVX|AVX2]\n",
            "Thread count: 1 physical cores, 2 logical processors, using up to 2 threads\n",
            "\n",
            "Academic license - for non-commercial use only - registered to isikder@uncc.edu\n",
            "Optimize a model with 252 rows, 428 columns and 612 nonzeros\n",
            "Model fingerprint: 0x0dddb7b7\n",
            "Variable types: 0 continuous, 428 integer (0 binary)\n",
            "Coefficient statistics:\n",
            "  Matrix range     [1e+00, 1e+00]\n",
            "  Objective range  [6e-01, 8e+01]\n",
            "  Bounds range     [0e+00, 0e+00]\n",
            "  RHS range        [8e+02, 1e+03]\n",
            "Presolve removed 240 rows and 415 columns\n",
            "Presolve time: 0.00s\n",
            "Presolved: 12 rows, 13 columns, 24 nonzeros\n",
            "Variable types: 0 continuous, 13 integer (0 binary)\n",
            "Found heuristic solution: objective 1238163.9000\n",
            "\n",
            "Root relaxation: objective 6.148050e+05, 8 iterations, 0.00 seconds (0.00 work units)\n",
            "\n",
            "    Nodes    |    Current Node    |     Objective Bounds      |     Work\n",
            " Expl Unexpl |  Obj  Depth IntInf | Incumbent    BestBd   Gap | It/Node Time\n",
            "\n",
            "*    0     0               0    614805.00000 614805.000  0.00%     -    0s\n",
            "\n",
            "Explored 1 nodes (8 simplex iterations) in 0.03 seconds (0.00 work units)\n",
            "Thread count was 2 (of 2 available processors)\n",
            "\n",
            "Solution count 2: 614805 1.23816e+06 \n",
            "\n",
            "Optimal solution found (tolerance 1.00e-04)\n",
            "Best objective 6.148050000000e+05, best bound 6.148050000000e+05, gap 0.0000%\n",
            "Obj: 614805\n"
          ]
        }
      ]
    },
    {
      "cell_type": "code",
      "source": [
        "for i in [1,2]:\n",
        "  for j in [0,1,2,3,4,5,6]:\n",
        "    print(i,j,Q_prime[i,j].X)"
      ],
      "metadata": {
        "colab": {
          "base_uri": "https://localhost:8080/"
        },
        "id": "zIN2WV2ExK9_",
        "outputId": "10b0d475-ceb2-446a-c915-16fcd5d1f840"
      },
      "execution_count": 587,
      "outputs": [
        {
          "output_type": "stream",
          "name": "stdout",
          "text": [
            "1 0 1700.0\n",
            "1 1 -0.0\n",
            "1 2 -0.0\n",
            "1 3 -0.0\n",
            "1 4 -0.0\n",
            "1 5 -0.0\n",
            "1 6 -0.0\n",
            "2 0 -0.0\n",
            "2 1 0.0\n",
            "2 2 0.0\n",
            "2 3 200.0\n",
            "2 4 400.0\n",
            "2 5 650.0\n",
            "2 6 850.0\n"
          ]
        }
      ]
    },
    {
      "cell_type": "code",
      "source": [
        "for k in K:\n",
        "  for t in T:\n",
        "    print(k,t,x[k,t])"
      ],
      "metadata": {
        "colab": {
          "base_uri": "https://localhost:8080/"
        },
        "id": "yHuANSI9Qrfx",
        "outputId": "290f0627-069e-40fb-d699-d89c074d90e2"
      },
      "execution_count": 588,
      "outputs": [
        {
          "output_type": "stream",
          "name": "stdout",
          "text": [
            "1 1 750\n",
            "1 2 750\n",
            "2 1 750\n",
            "2 2 800\n",
            "3 1 750\n",
            "3 2 750\n",
            "4 1 750\n",
            "4 2 800\n",
            "5 1 800\n",
            "5 2 750\n",
            "6 1 750\n",
            "6 2 750\n",
            "7 1 850\n",
            "7 2 900\n",
            "8 1 850\n",
            "8 2 900\n",
            "9 1 850\n",
            "9 2 850\n",
            "10 1 850\n",
            "10 2 850\n",
            "11 1 850\n",
            "11 2 900\n",
            "12 1 850\n",
            "12 2 850\n",
            "13 1 950\n",
            "13 2 1000\n",
            "14 1 1000\n",
            "14 2 1000\n",
            "15 1 1000\n",
            "15 2 1000\n",
            "16 1 1000\n",
            "16 2 950\n",
            "17 1 950\n",
            "17 2 1000\n",
            "18 1 950\n",
            "18 2 950\n",
            "19 1 1100\n",
            "19 2 1050\n",
            "20 1 1100\n",
            "20 2 1050\n",
            "21 1 1050\n",
            "21 2 1100\n",
            "22 1 1050\n",
            "22 2 1050\n",
            "23 1 1050\n",
            "23 2 1100\n",
            "24 1 1100\n",
            "24 2 1100\n",
            "25 1 1200\n",
            "25 2 1150\n",
            "26 1 1200\n",
            "26 2 1200\n",
            "27 1 1200\n",
            "27 2 1200\n",
            "28 1 1150\n",
            "28 2 1200\n",
            "29 1 1200\n",
            "29 2 1150\n",
            "30 1 1200\n",
            "30 2 1150\n",
            "31 1 1300\n",
            "31 2 1300\n",
            "32 1 1250\n",
            "32 2 1300\n",
            "33 1 1300\n",
            "33 2 1300\n",
            "34 1 1300\n",
            "34 2 1250\n",
            "35 1 1300\n",
            "35 2 1250\n",
            "36 1 1300\n",
            "36 2 1250\n"
          ]
        }
      ]
    },
    {
      "cell_type": "code",
      "source": [
        "'''\n",
        "for k in K:\n",
        "  for t in T:\n",
        "    print('scene:',k,'time:',t,Q[k,t].X,'+',bin[k,t].X,'*',v[k,t-1].X,'+',1-bin[k,t].X,'*',u[k,t].X,'-',bin[k,t].X,'*',v[k,t].X,'=',x[k,t])\n",
        "'''"
      ],
      "metadata": {
        "colab": {
          "base_uri": "https://localhost:8080/",
          "height": 53
        },
        "id": "CxqLu4pjSIZN",
        "outputId": "338f51ea-7842-416d-9885-6e7d2364ed4f"
      },
      "execution_count": 589,
      "outputs": [
        {
          "output_type": "execute_result",
          "data": {
            "text/plain": [
              "\"\\nfor k in K:\\n  for t in T:\\n    print('scene:',k,'time:',t,Q[k,t].X,'+',bin[k,t].X,'*',v[k,t-1].X,'+',1-bin[k,t].X,'*',u[k,t].X,'-',bin[k,t].X,'*',v[k,t].X,'=',x[k,t])\\n\""
            ],
            "application/vnd.google.colaboratory.intrinsic+json": {
              "type": "string"
            }
          },
          "metadata": {},
          "execution_count": 589
        }
      ]
    },
    {
      "cell_type": "code",
      "source": [
        "x[1,1]"
      ],
      "metadata": {
        "colab": {
          "base_uri": "https://localhost:8080/"
        },
        "id": "OuBSDKrLtZxL",
        "outputId": "e7bb90c9-60a9-4742-ced8-03dcfb5f1d8b"
      },
      "execution_count": 590,
      "outputs": [
        {
          "output_type": "execute_result",
          "data": {
            "text/plain": [
              "750"
            ]
          },
          "metadata": {},
          "execution_count": 590
        }
      ]
    },
    {
      "cell_type": "code",
      "source": [
        "for k in K:\n",
        "  for t in T:\n",
        "    print('scene:',k,'time:',t,Q[k,t].X,'+',v[k,t-1].X,'+',u[k,t].X,'-',v[k,t].X,'=',x[k,t])"
      ],
      "metadata": {
        "colab": {
          "base_uri": "https://localhost:8080/"
        },
        "id": "EwBK07E__8GJ",
        "outputId": "e3dea682-c2dd-4cc2-9d96-07aa75badb64"
      },
      "execution_count": 591,
      "outputs": [
        {
          "output_type": "stream",
          "name": "stdout",
          "text": [
            "scene: 1 time: 1 1700.0 + 0.0 + 0.0 - 950.0 = 750\n",
            "scene: 1 time: 2 0.0 + 950.0 + 0.0 - 200.0 = 750\n",
            "scene: 2 time: 1 1700.0 + 0.0 + 50.0 - 1000.0 = 750\n",
            "scene: 2 time: 2 0.0 + 1000.0 + 0.0 - 200.0 = 800\n",
            "scene: 3 time: 1 1700.0 + 0.0 + 0.0 - 950.0 = 750\n",
            "scene: 3 time: 2 0.0 + 950.0 + 0.0 - 200.0 = 750\n",
            "scene: 4 time: 1 1700.0 + 0.0 + 50.0 - 1000.0 = 750\n",
            "scene: 4 time: 2 0.0 + 1000.0 + 0.0 - 200.0 = 800\n",
            "scene: 5 time: 1 1700.0 + 0.0 + 50.0 - 950.0 = 800\n",
            "scene: 5 time: 2 0.0 + 950.0 + -0.0 - 200.0 = 750\n",
            "scene: 6 time: 1 1700.0 + 0.0 + 0.0 - 950.0 = 750\n",
            "scene: 6 time: 2 0.0 + 950.0 + -0.0 - 200.0 = 750\n",
            "scene: 7 time: 1 1700.0 + 0.0 + 50.0 - 900.0 = 850\n",
            "scene: 7 time: 2 0.0 + 900.0 + 0.0 - 0.0 = 900\n",
            "scene: 8 time: 1 1700.0 + 0.0 + 50.0 - 900.0 = 850\n",
            "scene: 8 time: 2 0.0 + 900.0 + 0.0 - 0.0 = 900\n",
            "scene: 9 time: 1 1700.0 + 0.0 + 0.0 - 850.0 = 850\n",
            "scene: 9 time: 2 0.0 + 850.0 + 0.0 - 0.0 = 850\n",
            "scene: 10 time: 1 1700.0 + 0.0 + 0.0 - 850.0 = 850\n",
            "scene: 10 time: 2 0.0 + 850.0 + 0.0 - 0.0 = 850\n",
            "scene: 11 time: 1 1700.0 + 0.0 + 50.0 - 900.0 = 850\n",
            "scene: 11 time: 2 0.0 + 900.0 + -0.0 - -0.0 = 900\n",
            "scene: 12 time: 1 1700.0 + 0.0 + 0.0 - 850.0 = 850\n",
            "scene: 12 time: 2 0.0 + 850.0 + -0.0 - -0.0 = 850\n",
            "scene: 13 time: 1 1700.0 + 0.0 + 50.0 - 800.0 = 950\n",
            "scene: 13 time: 2 200.0 + 800.0 + 0.0 - 0.0 = 1000\n",
            "scene: 14 time: 1 1700.0 + 0.0 + 100.0 - 800.0 = 1000\n",
            "scene: 14 time: 2 200.0 + 800.0 + 0.0 - 0.0 = 1000\n",
            "scene: 15 time: 1 1700.0 + 0.0 + 100.0 - 800.0 = 1000\n",
            "scene: 15 time: 2 200.0 + 800.0 + 0.0 - 0.0 = 1000\n",
            "scene: 16 time: 1 1700.0 + 0.0 + 50.0 - 750.0 = 1000\n",
            "scene: 16 time: 2 200.0 + 750.0 + 0.0 - 0.0 = 950\n",
            "scene: 17 time: 1 1700.0 + 0.0 + 50.0 - 800.0 = 950\n",
            "scene: 17 time: 2 200.0 + 800.0 + -0.0 - -0.0 = 1000\n",
            "scene: 18 time: 1 1700.0 + 0.0 + 0.0 - 750.0 = 950\n",
            "scene: 18 time: 2 200.0 + 750.0 + -0.0 - -0.0 = 950\n",
            "scene: 19 time: 1 1700.0 + 0.0 + 50.0 - 650.0 = 1100\n",
            "scene: 19 time: 2 400.0 + 650.0 + 0.0 - 0.0 = 1050\n",
            "scene: 20 time: 1 1700.0 + 0.0 + 50.0 - 650.0 = 1100\n",
            "scene: 20 time: 2 400.0 + 650.0 + 0.0 - 0.0 = 1050\n",
            "scene: 21 time: 1 1700.0 + 0.0 + 50.0 - 700.0 = 1050\n",
            "scene: 21 time: 2 400.0 + 700.0 + 0.0 - 0.0 = 1100\n",
            "scene: 22 time: 1 1700.0 + 0.0 + 0.0 - 650.0 = 1050\n",
            "scene: 22 time: 2 400.0 + 650.0 + 0.0 - 0.0 = 1050\n",
            "scene: 23 time: 1 1700.0 + 0.0 + 50.0 - 700.0 = 1050\n",
            "scene: 23 time: 2 400.0 + 700.0 + -0.0 - -0.0 = 1100\n",
            "scene: 24 time: 1 1700.0 + 0.0 + 100.0 - 700.0 = 1100\n",
            "scene: 24 time: 2 400.0 + 700.0 + -0.0 - -0.0 = 1100\n",
            "scene: 25 time: 1 1700.0 + 0.0 + 0.0 - 500.0 = 1200\n",
            "scene: 25 time: 2 650.0 + 500.0 + 0.0 - 0.0 = 1150\n",
            "scene: 26 time: 1 1700.0 + 0.0 + 50.0 - 550.0 = 1200\n",
            "scene: 26 time: 2 650.0 + 550.0 + 0.0 - 0.0 = 1200\n",
            "scene: 27 time: 1 1700.0 + 0.0 + 50.0 - 550.0 = 1200\n",
            "scene: 27 time: 2 650.0 + 550.0 + 0.0 - 0.0 = 1200\n",
            "scene: 28 time: 1 1700.0 + 0.0 + 0.0 - 550.0 = 1150\n",
            "scene: 28 time: 2 650.0 + 550.0 + 0.0 - 0.0 = 1200\n",
            "scene: 29 time: 1 1700.0 + 0.0 + 0.0 - 500.0 = 1200\n",
            "scene: 29 time: 2 650.0 + 500.0 + -0.0 - -0.0 = 1150\n",
            "scene: 30 time: 1 1700.0 + 0.0 + 0.0 - 500.0 = 1200\n",
            "scene: 30 time: 2 650.0 + 500.0 + -0.0 - -0.0 = 1150\n",
            "scene: 31 time: 1 1700.0 + 0.0 + 50.0 - 450.0 = 1300\n",
            "scene: 31 time: 2 850.0 + 450.0 + 0.0 - 0.0 = 1300\n",
            "scene: 32 time: 1 1700.0 + 0.0 + 0.0 - 450.0 = 1250\n",
            "scene: 32 time: 2 850.0 + 450.0 + 0.0 - 0.0 = 1300\n",
            "scene: 33 time: 1 1700.0 + 0.0 + 50.0 - 450.0 = 1300\n",
            "scene: 33 time: 2 850.0 + 450.0 + 0.0 - 0.0 = 1300\n",
            "scene: 34 time: 1 1700.0 + 0.0 + 0.0 - 400.0 = 1300\n",
            "scene: 34 time: 2 850.0 + 400.0 + 0.0 - 0.0 = 1250\n",
            "scene: 35 time: 1 1700.0 + 0.0 + 0.0 - 400.0 = 1300\n",
            "scene: 35 time: 2 850.0 + 400.0 + -0.0 - -0.0 = 1250\n",
            "scene: 36 time: 1 1700.0 + 0.0 + 0.0 - 400.0 = 1300\n",
            "scene: 36 time: 2 850.0 + 400.0 + -0.0 - -0.0 = 1250\n"
          ]
        }
      ]
    },
    {
      "cell_type": "code",
      "source": [],
      "metadata": {
        "id": "AETHz5Wxa-Y1"
      },
      "execution_count": 591,
      "outputs": []
    }
  ]
}