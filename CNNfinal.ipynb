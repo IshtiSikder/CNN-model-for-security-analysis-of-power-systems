{
  "nbformat": 4,
  "nbformat_minor": 0,
  "metadata": {
    "colab": {
      "name": "CNNfinal.ipynb",
      "provenance": [],
      "collapsed_sections": [],
      "authorship_tag": "ABX9TyNpsnwzc9y93/tfJRENW1/+",
      "include_colab_link": true
    },
    "kernelspec": {
      "name": "python3",
      "display_name": "Python 3"
    },
    "language_info": {
      "name": "python"
    }
  },
  "cells": [
    {
      "cell_type": "markdown",
      "metadata": {
        "id": "view-in-github",
        "colab_type": "text"
      },
      "source": [
        "<a href=\"https://colab.research.google.com/github/IshtiSikder/CNN-model-for-security-analysis-of-power-systems/blob/main/CNNfinal.ipynb\" target=\"_parent\"><img src=\"https://colab.research.google.com/assets/colab-badge.svg\" alt=\"Open In Colab\"/></a>"
      ]
    },
    {
      "cell_type": "code",
      "execution_count": 1,
      "metadata": {
        "id": "w08P4vnnIJos"
      },
      "outputs": [],
      "source": [
        "from tensorflow.keras.utils import to_categorical\n",
        "from keras.models import Sequential\n",
        "from keras.layers import Dense, Conv2D, Flatten,Reshape, MaxPooling2D, Dropout\n",
        "from keras import regularizers"
      ]
    },
    {
      "cell_type": "code",
      "source": [
        "import numpy as np\n",
        "import pandas as pd\n",
        "import json"
      ],
      "metadata": {
        "id": "ZGglNyW7ILXj"
      },
      "execution_count": 2,
      "outputs": []
    },
    {
      "cell_type": "markdown",
      "source": [
        ""
      ],
      "metadata": {
        "id": "Qp2kUBSb3tiN"
      }
    },
    {
      "cell_type": "code",
      "source": [
        "pwd"
      ],
      "metadata": {
        "colab": {
          "base_uri": "https://localhost:8080/",
          "height": 35
        },
        "id": "qTxwzX62Kt7e",
        "outputId": "88d198bf-4dfc-47e9-f5e6-f1f4d98d9996"
      },
      "execution_count": 3,
      "outputs": [
        {
          "output_type": "execute_result",
          "data": {
            "text/plain": [
              "'/content'"
            ],
            "application/vnd.google.colaboratory.intrinsic+json": {
              "type": "string"
            }
          },
          "metadata": {},
          "execution_count": 3
        }
      ]
    },
    {
      "cell_type": "code",
      "source": [
        "with open('case9.txt') as f:\n",
        "    data = f.read()"
      ],
      "metadata": {
        "id": "UhenEM-AKguO"
      },
      "execution_count": 4,
      "outputs": []
    },
    {
      "cell_type": "code",
      "source": [
        "data = json.loads(data)"
      ],
      "metadata": {
        "id": "LLNMluyUK8_-"
      },
      "execution_count": 5,
      "outputs": []
    },
    {
      "cell_type": "code",
      "source": [
        "for i in data['sim1'][0]:\n",
        "  print(len(i))"
      ],
      "metadata": {
        "colab": {
          "base_uri": "https://localhost:8080/"
        },
        "id": "Ds9iALQ44MSQ",
        "outputId": "12244dc6-6f90-46e3-d152-228000f866b0"
      },
      "execution_count": 6,
      "outputs": [
        {
          "output_type": "stream",
          "name": "stdout",
          "text": [
            "9\n",
            "9\n",
            "9\n"
          ]
        }
      ]
    },
    {
      "cell_type": "code",
      "source": [
        "mat = {}\n",
        "label = {}"
      ],
      "metadata": {
        "id": "kMPTCDBlLMrF"
      },
      "execution_count": 7,
      "outputs": []
    },
    {
      "cell_type": "code",
      "source": [
        "for i in data:\n",
        "  mat[i] = np.array(data[i][0])"
      ],
      "metadata": {
        "id": "WH2K-_u-LC5W"
      },
      "execution_count": 8,
      "outputs": []
    },
    {
      "cell_type": "code",
      "source": [
        "for i in data:\n",
        "  label[i] = data[i][1]"
      ],
      "metadata": {
        "id": "4-8yS-NnLmCn"
      },
      "execution_count": 9,
      "outputs": []
    },
    {
      "cell_type": "code",
      "source": [
        "feed = np.array(list(mat.values()))\n",
        "label = np.array(list(label.values()))"
      ],
      "metadata": {
        "id": "XjR8nKdPLm7w"
      },
      "execution_count": 10,
      "outputs": []
    },
    {
      "cell_type": "code",
      "source": [
        "x_train,x_test = np.split(feed,[int(len(label)*0.8)])\n",
        "y_train,y_test = np.split(label,[int(len(label)*0.8)])\n",
        "\n",
        "\n",
        "x_train = x_train.reshape(len(x_train),x_train[0].shape[0],x_train[0].shape[1],1)\n",
        "x_test = x_test.reshape(len(x_test),x_test[0].shape[0],x_test[0].shape[1],1)\n",
        "\n",
        "y_train = to_categorical(y_train)\n",
        "y_test = to_categorical(y_test)"
      ],
      "metadata": {
        "id": "UKwXI4T9LxoI"
      },
      "execution_count": 11,
      "outputs": []
    },
    {
      "cell_type": "code",
      "source": [
        "model = Sequential()\n",
        "#add model layers\n",
        "model.add(Conv2D(12, kernel_size=(3,3), padding ='same',activation='relu',input_shape = (3,9,1)))\n",
        "model.add(Conv2D(24, kernel_size=(3,3),padding ='same', activation='relu'))\n",
        "model.add(Conv2D(48, kernel_size=(3,3),padding ='same', activation='relu'))\n",
        "model.add(Conv2D(64, kernel_size=(3,3),padding ='same', activation='relu'))\n",
        "model.add(Flatten())\n",
        "model.add(Dense(24,activation='relu'))\n",
        "model.add(Dense(3, activation='softmax'))"
      ],
      "metadata": {
        "id": "dE0eYxU8MohP"
      },
      "execution_count": 12,
      "outputs": []
    },
    {
      "cell_type": "code",
      "source": [
        "model.summary()"
      ],
      "metadata": {
        "colab": {
          "base_uri": "https://localhost:8080/"
        },
        "id": "8W8rarovMr6I",
        "outputId": "56e7c674-3df6-44ec-b181-4f60c42b74f1"
      },
      "execution_count": 13,
      "outputs": [
        {
          "output_type": "stream",
          "name": "stdout",
          "text": [
            "Model: \"sequential\"\n",
            "_________________________________________________________________\n",
            " Layer (type)                Output Shape              Param #   \n",
            "=================================================================\n",
            " conv2d (Conv2D)             (None, 3, 9, 12)          120       \n",
            "                                                                 \n",
            " conv2d_1 (Conv2D)           (None, 3, 9, 24)          2616      \n",
            "                                                                 \n",
            " conv2d_2 (Conv2D)           (None, 3, 9, 48)          10416     \n",
            "                                                                 \n",
            " conv2d_3 (Conv2D)           (None, 3, 9, 64)          27712     \n",
            "                                                                 \n",
            " flatten (Flatten)           (None, 1728)              0         \n",
            "                                                                 \n",
            " dense (Dense)               (None, 24)                41496     \n",
            "                                                                 \n",
            " dense_1 (Dense)             (None, 3)                 75        \n",
            "                                                                 \n",
            "=================================================================\n",
            "Total params: 82,435\n",
            "Trainable params: 82,435\n",
            "Non-trainable params: 0\n",
            "_________________________________________________________________\n"
          ]
        }
      ]
    },
    {
      "cell_type": "code",
      "source": [
        "from tensorflow.keras.optimizers import *\n",
        "model.compile(SGD(lr=0.001),loss='categorical_crossentropy',metrics=['accuracy'])"
      ],
      "metadata": {
        "colab": {
          "base_uri": "https://localhost:8080/"
        },
        "id": "e2xmx0uQMv7E",
        "outputId": "7816917e-1e46-4208-e659-c088cdeb43a4"
      },
      "execution_count": 14,
      "outputs": [
        {
          "output_type": "stream",
          "name": "stderr",
          "text": [
            "/usr/local/lib/python3.7/dist-packages/keras/optimizer_v2/gradient_descent.py:102: UserWarning: The `lr` argument is deprecated, use `learning_rate` instead.\n",
            "  super(SGD, self).__init__(name, **kwargs)\n"
          ]
        }
      ]
    },
    {
      "cell_type": "code",
      "source": [
        "model.fit(x_train,y_train,validation_split=0.2,batch_size=100,epochs=50,shuffle = True,verbose=2)"
      ],
      "metadata": {
        "colab": {
          "base_uri": "https://localhost:8080/"
        },
        "id": "FP98Uj3UNAeW",
        "outputId": "25d1c111-3a87-4623-e572-d46a8a69a3c5"
      },
      "execution_count": 15,
      "outputs": [
        {
          "output_type": "stream",
          "name": "stdout",
          "text": [
            "Epoch 1/50\n",
            "20/20 - 2s - loss: 1.1057 - accuracy: 0.4365 - val_loss: 0.9757 - val_accuracy: 0.4303 - 2s/epoch - 84ms/step\n",
            "Epoch 2/50\n",
            "20/20 - 1s - loss: 0.9698 - accuracy: 0.5407 - val_loss: 0.9341 - val_accuracy: 0.4303 - 548ms/epoch - 27ms/step\n",
            "Epoch 3/50\n",
            "20/20 - 1s - loss: 0.9362 - accuracy: 0.5812 - val_loss: 0.9051 - val_accuracy: 0.8283 - 552ms/epoch - 28ms/step\n",
            "Epoch 4/50\n",
            "20/20 - 1s - loss: 0.8937 - accuracy: 0.6763 - val_loss: 0.8707 - val_accuracy: 0.5677 - 543ms/epoch - 27ms/step\n",
            "Epoch 5/50\n",
            "20/20 - 1s - loss: 0.8761 - accuracy: 0.6667 - val_loss: 0.8750 - val_accuracy: 0.4303 - 558ms/epoch - 28ms/step\n",
            "Epoch 6/50\n",
            "20/20 - 1s - loss: 0.8204 - accuracy: 0.7557 - val_loss: 0.8500 - val_accuracy: 0.5212 - 537ms/epoch - 27ms/step\n",
            "Epoch 7/50\n",
            "20/20 - 1s - loss: 0.8063 - accuracy: 0.7314 - val_loss: 0.7860 - val_accuracy: 0.5677 - 556ms/epoch - 28ms/step\n",
            "Epoch 8/50\n",
            "20/20 - 1s - loss: 0.7807 - accuracy: 0.7365 - val_loss: 0.8222 - val_accuracy: 0.6929 - 547ms/epoch - 27ms/step\n",
            "Epoch 9/50\n",
            "20/20 - 1s - loss: 0.7329 - accuracy: 0.7805 - val_loss: 0.7180 - val_accuracy: 0.6889 - 557ms/epoch - 28ms/step\n",
            "Epoch 10/50\n",
            "20/20 - 1s - loss: 0.6910 - accuracy: 0.8189 - val_loss: 0.6796 - val_accuracy: 0.6889 - 561ms/epoch - 28ms/step\n",
            "Epoch 11/50\n",
            "20/20 - 1s - loss: 0.6696 - accuracy: 0.8169 - val_loss: 0.6638 - val_accuracy: 1.0000 - 551ms/epoch - 28ms/step\n",
            "Epoch 12/50\n",
            "20/20 - 1s - loss: 0.6416 - accuracy: 0.8569 - val_loss: 0.6336 - val_accuracy: 0.8283 - 588ms/epoch - 29ms/step\n",
            "Epoch 13/50\n",
            "20/20 - 1s - loss: 0.6038 - accuracy: 0.8710 - val_loss: 0.5983 - val_accuracy: 1.0000 - 549ms/epoch - 27ms/step\n",
            "Epoch 14/50\n",
            "20/20 - 1s - loss: 0.5902 - accuracy: 0.9064 - val_loss: 0.5591 - val_accuracy: 0.8283 - 564ms/epoch - 28ms/step\n",
            "Epoch 15/50\n",
            "20/20 - 1s - loss: 0.5539 - accuracy: 0.9074 - val_loss: 0.5429 - val_accuracy: 1.0000 - 547ms/epoch - 27ms/step\n",
            "Epoch 16/50\n",
            "20/20 - 1s - loss: 0.5170 - accuracy: 0.9342 - val_loss: 0.5070 - val_accuracy: 1.0000 - 559ms/epoch - 28ms/step\n",
            "Epoch 17/50\n",
            "20/20 - 1s - loss: 0.4859 - accuracy: 0.9464 - val_loss: 0.4790 - val_accuracy: 1.0000 - 555ms/epoch - 28ms/step\n",
            "Epoch 18/50\n",
            "20/20 - 1s - loss: 0.4623 - accuracy: 0.9449 - val_loss: 0.4483 - val_accuracy: 1.0000 - 570ms/epoch - 29ms/step\n",
            "Epoch 19/50\n",
            "20/20 - 1s - loss: 0.4390 - accuracy: 0.9595 - val_loss: 0.4458 - val_accuracy: 1.0000 - 567ms/epoch - 28ms/step\n",
            "Epoch 20/50\n",
            "20/20 - 1s - loss: 0.4152 - accuracy: 0.9676 - val_loss: 0.3979 - val_accuracy: 1.0000 - 571ms/epoch - 29ms/step\n",
            "Epoch 21/50\n",
            "20/20 - 1s - loss: 0.3804 - accuracy: 0.9848 - val_loss: 0.3924 - val_accuracy: 1.0000 - 562ms/epoch - 28ms/step\n",
            "Epoch 22/50\n",
            "20/20 - 1s - loss: 0.3511 - accuracy: 1.0000 - val_loss: 0.3393 - val_accuracy: 1.0000 - 557ms/epoch - 28ms/step\n",
            "Epoch 23/50\n",
            "20/20 - 1s - loss: 0.3319 - accuracy: 1.0000 - val_loss: 0.3691 - val_accuracy: 1.0000 - 555ms/epoch - 28ms/step\n",
            "Epoch 24/50\n",
            "20/20 - 1s - loss: 0.3053 - accuracy: 1.0000 - val_loss: 0.2956 - val_accuracy: 1.0000 - 541ms/epoch - 27ms/step\n",
            "Epoch 25/50\n",
            "20/20 - 1s - loss: 0.2814 - accuracy: 1.0000 - val_loss: 0.2735 - val_accuracy: 1.0000 - 560ms/epoch - 28ms/step\n",
            "Epoch 26/50\n",
            "20/20 - 1s - loss: 0.2747 - accuracy: 0.9934 - val_loss: 0.2561 - val_accuracy: 1.0000 - 547ms/epoch - 27ms/step\n",
            "Epoch 27/50\n",
            "20/20 - 1s - loss: 0.2473 - accuracy: 1.0000 - val_loss: 0.2397 - val_accuracy: 1.0000 - 555ms/epoch - 28ms/step\n",
            "Epoch 28/50\n",
            "20/20 - 1s - loss: 0.2335 - accuracy: 1.0000 - val_loss: 0.2237 - val_accuracy: 1.0000 - 539ms/epoch - 27ms/step\n",
            "Epoch 29/50\n",
            "20/20 - 1s - loss: 0.2122 - accuracy: 1.0000 - val_loss: 0.2322 - val_accuracy: 1.0000 - 555ms/epoch - 28ms/step\n",
            "Epoch 30/50\n",
            "20/20 - 1s - loss: 0.1989 - accuracy: 1.0000 - val_loss: 0.1900 - val_accuracy: 1.0000 - 574ms/epoch - 29ms/step\n",
            "Epoch 31/50\n",
            "20/20 - 1s - loss: 0.1868 - accuracy: 1.0000 - val_loss: 0.1773 - val_accuracy: 1.0000 - 541ms/epoch - 27ms/step\n",
            "Epoch 32/50\n",
            "20/20 - 1s - loss: 0.1703 - accuracy: 1.0000 - val_loss: 0.1673 - val_accuracy: 1.0000 - 563ms/epoch - 28ms/step\n",
            "Epoch 33/50\n",
            "20/20 - 1s - loss: 0.1546 - accuracy: 1.0000 - val_loss: 0.1499 - val_accuracy: 1.0000 - 539ms/epoch - 27ms/step\n",
            "Epoch 34/50\n",
            "20/20 - 1s - loss: 0.1436 - accuracy: 1.0000 - val_loss: 0.1387 - val_accuracy: 1.0000 - 556ms/epoch - 28ms/step\n",
            "Epoch 35/50\n",
            "20/20 - 1s - loss: 0.1360 - accuracy: 1.0000 - val_loss: 0.1288 - val_accuracy: 1.0000 - 549ms/epoch - 27ms/step\n",
            "Epoch 36/50\n",
            "20/20 - 1s - loss: 0.1255 - accuracy: 1.0000 - val_loss: 0.1312 - val_accuracy: 1.0000 - 550ms/epoch - 28ms/step\n",
            "Epoch 37/50\n",
            "20/20 - 1s - loss: 0.1177 - accuracy: 1.0000 - val_loss: 0.1125 - val_accuracy: 1.0000 - 548ms/epoch - 27ms/step\n",
            "Epoch 38/50\n",
            "20/20 - 1s - loss: 0.1087 - accuracy: 1.0000 - val_loss: 0.1114 - val_accuracy: 1.0000 - 556ms/epoch - 28ms/step\n",
            "Epoch 39/50\n",
            "20/20 - 1s - loss: 0.1032 - accuracy: 1.0000 - val_loss: 0.0988 - val_accuracy: 1.0000 - 546ms/epoch - 27ms/step\n",
            "Epoch 40/50\n",
            "20/20 - 1s - loss: 0.0964 - accuracy: 1.0000 - val_loss: 0.0935 - val_accuracy: 1.0000 - 548ms/epoch - 27ms/step\n",
            "Epoch 41/50\n",
            "20/20 - 1s - loss: 0.0899 - accuracy: 1.0000 - val_loss: 0.0885 - val_accuracy: 1.0000 - 563ms/epoch - 28ms/step\n",
            "Epoch 42/50\n",
            "20/20 - 1s - loss: 0.0847 - accuracy: 1.0000 - val_loss: 0.0827 - val_accuracy: 1.0000 - 542ms/epoch - 27ms/step\n",
            "Epoch 43/50\n",
            "20/20 - 1s - loss: 0.0792 - accuracy: 1.0000 - val_loss: 0.0769 - val_accuracy: 1.0000 - 553ms/epoch - 28ms/step\n",
            "Epoch 44/50\n",
            "20/20 - 1s - loss: 0.0746 - accuracy: 1.0000 - val_loss: 0.0726 - val_accuracy: 1.0000 - 554ms/epoch - 28ms/step\n",
            "Epoch 45/50\n",
            "20/20 - 1s - loss: 0.0709 - accuracy: 1.0000 - val_loss: 0.0711 - val_accuracy: 1.0000 - 557ms/epoch - 28ms/step\n",
            "Epoch 46/50\n",
            "20/20 - 1s - loss: 0.0673 - accuracy: 1.0000 - val_loss: 0.0691 - val_accuracy: 1.0000 - 543ms/epoch - 27ms/step\n",
            "Epoch 47/50\n",
            "20/20 - 1s - loss: 0.0635 - accuracy: 1.0000 - val_loss: 0.0617 - val_accuracy: 1.0000 - 554ms/epoch - 28ms/step\n",
            "Epoch 48/50\n",
            "20/20 - 1s - loss: 0.0596 - accuracy: 1.0000 - val_loss: 0.0586 - val_accuracy: 1.0000 - 545ms/epoch - 27ms/step\n",
            "Epoch 49/50\n",
            "20/20 - 1s - loss: 0.0569 - accuracy: 1.0000 - val_loss: 0.0558 - val_accuracy: 1.0000 - 609ms/epoch - 30ms/step\n",
            "Epoch 50/50\n",
            "20/20 - 1s - loss: 0.0543 - accuracy: 1.0000 - val_loss: 0.0531 - val_accuracy: 1.0000 - 573ms/epoch - 29ms/step\n"
          ]
        },
        {
          "output_type": "execute_result",
          "data": {
            "text/plain": [
              "<keras.callbacks.History at 0x7f3e49d48510>"
            ]
          },
          "metadata": {},
          "execution_count": 15
        }
      ]
    }
  ]
}