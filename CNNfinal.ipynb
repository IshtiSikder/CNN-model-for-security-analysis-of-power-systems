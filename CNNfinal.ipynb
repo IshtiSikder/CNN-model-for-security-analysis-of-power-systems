{
  "nbformat": 4,
  "nbformat_minor": 0,
  "metadata": {
    "colab": {
      "name": "CNNfinal.ipynb",
      "provenance": [],
      "collapsed_sections": [],
      "authorship_tag": "ABX9TyNr01HQarm+p2PkVIojaZQ7",
      "include_colab_link": true
    },
    "kernelspec": {
      "name": "python3",
      "display_name": "Python 3"
    },
    "language_info": {
      "name": "python"
    }
  },
  "cells": [
    {
      "cell_type": "markdown",
      "metadata": {
        "id": "view-in-github",
        "colab_type": "text"
      },
      "source": [
        "<a href=\"https://colab.research.google.com/github/IshtiSikder/CNN-model-for-security-analysis-of-power-systems/blob/main/CNNfinal.ipynb\" target=\"_parent\"><img src=\"https://colab.research.google.com/assets/colab-badge.svg\" alt=\"Open In Colab\"/></a>"
      ]
    },
    {
      "cell_type": "code",
      "execution_count": 1,
      "metadata": {
        "id": "w08P4vnnIJos"
      },
      "outputs": [],
      "source": [
        "from tensorflow.keras.utils import to_categorical\n",
        "from keras.models import Sequential\n",
        "from keras.layers import Dense, Conv2D, Flatten,Reshape, MaxPooling2D, Dropout\n",
        "from keras import regularizers"
      ]
    },
    {
      "cell_type": "code",
      "source": [
        "import numpy as np\n",
        "import pandas as pd\n",
        "import json"
      ],
      "metadata": {
        "id": "ZGglNyW7ILXj"
      },
      "execution_count": 2,
      "outputs": []
    },
    {
      "cell_type": "markdown",
      "source": [
        ""
      ],
      "metadata": {
        "id": "Qp2kUBSb3tiN"
      }
    },
    {
      "cell_type": "code",
      "source": [
        "pwd"
      ],
      "metadata": {
        "colab": {
          "base_uri": "https://localhost:8080/",
          "height": 35
        },
        "id": "qTxwzX62Kt7e",
        "outputId": "a8b28619-691b-47a7-b63a-00e4ebbfb66a"
      },
      "execution_count": 3,
      "outputs": [
        {
          "output_type": "execute_result",
          "data": {
            "text/plain": [
              "'/content'"
            ],
            "application/vnd.google.colaboratory.intrinsic+json": {
              "type": "string"
            }
          },
          "metadata": {},
          "execution_count": 3
        }
      ]
    },
    {
      "cell_type": "code",
      "source": [
        "with open('case9.txt') as f:\n",
        "    data = f.read()"
      ],
      "metadata": {
        "id": "UhenEM-AKguO"
      },
      "execution_count": 4,
      "outputs": []
    },
    {
      "cell_type": "code",
      "source": [
        "data = json.loads(data)"
      ],
      "metadata": {
        "id": "LLNMluyUK8_-"
      },
      "execution_count": 5,
      "outputs": []
    },
    {
      "cell_type": "code",
      "source": [
        "for i in data['sim1'][0]:\n",
        "  print(len(i))"
      ],
      "metadata": {
        "colab": {
          "base_uri": "https://localhost:8080/"
        },
        "id": "Ds9iALQ44MSQ",
        "outputId": "df00ff4c-64cd-45d1-8efa-6a633375f18e"
      },
      "execution_count": 6,
      "outputs": [
        {
          "output_type": "stream",
          "name": "stdout",
          "text": [
            "9\n",
            "9\n",
            "9\n"
          ]
        }
      ]
    },
    {
      "cell_type": "code",
      "source": [
        "mat = {}\n",
        "label = {}"
      ],
      "metadata": {
        "id": "kMPTCDBlLMrF"
      },
      "execution_count": 7,
      "outputs": []
    },
    {
      "cell_type": "code",
      "source": [
        "for i in data:\n",
        "  mat[i] = np.array(data[i][0])"
      ],
      "metadata": {
        "id": "WH2K-_u-LC5W"
      },
      "execution_count": 8,
      "outputs": []
    },
    {
      "cell_type": "code",
      "source": [
        "for i in data:\n",
        "  label[i] = data[i][1]"
      ],
      "metadata": {
        "id": "4-8yS-NnLmCn"
      },
      "execution_count": 9,
      "outputs": []
    },
    {
      "cell_type": "code",
      "source": [
        "feed = np.array(list(mat.values()))\n",
        "label = np.array(list(label.values()))"
      ],
      "metadata": {
        "id": "XjR8nKdPLm7w"
      },
      "execution_count": 10,
      "outputs": []
    },
    {
      "cell_type": "code",
      "source": [
        "x_train,x_test = np.split(feed,[int(len(label)*0.8)])\n",
        "y_train,y_test = np.split(label,[int(len(label)*0.8)])\n",
        "\n",
        "\n",
        "x_train = x_train.reshape(len(x_train),x_train[0].shape[0],x_train[0].shape[1],1)\n",
        "x_test = x_test.reshape(len(x_test),x_test[0].shape[0],x_test[0].shape[1],1)\n",
        "\n",
        "y_train = to_categorical(y_train)\n",
        "y_test = to_categorical(y_test)"
      ],
      "metadata": {
        "id": "UKwXI4T9LxoI"
      },
      "execution_count": 11,
      "outputs": []
    },
    {
      "cell_type": "code",
      "source": [
        "model = Sequential()\n",
        "#add model layers\n",
        "model.add(Conv2D(12, kernel_size=(3,3), padding ='same',activation='relu',input_shape = (3,9,1)))\n",
        "model.add(Conv2D(24, kernel_size=(3,3),padding ='same', activation='relu'))\n",
        "model.add(Conv2D(48, kernel_size=(3,3),padding ='same', activation='relu'))\n",
        "model.add(Conv2D(64, kernel_size=(3,3),padding ='same', activation='relu'))\n",
        "model.add(Flatten())\n",
        "model.add(Dense(24,activation='relu'))\n",
        "model.add(Dense(3, activation='softmax'))"
      ],
      "metadata": {
        "id": "dE0eYxU8MohP"
      },
      "execution_count": 12,
      "outputs": []
    },
    {
      "cell_type": "code",
      "source": [
        "model.summary()"
      ],
      "metadata": {
        "colab": {
          "base_uri": "https://localhost:8080/"
        },
        "id": "8W8rarovMr6I",
        "outputId": "c58e6fb7-2c04-4c30-d8af-f9ecb4d3bd78"
      },
      "execution_count": 13,
      "outputs": [
        {
          "output_type": "stream",
          "name": "stdout",
          "text": [
            "Model: \"sequential\"\n",
            "_________________________________________________________________\n",
            " Layer (type)                Output Shape              Param #   \n",
            "=================================================================\n",
            " conv2d (Conv2D)             (None, 3, 9, 12)          120       \n",
            "                                                                 \n",
            " conv2d_1 (Conv2D)           (None, 3, 9, 24)          2616      \n",
            "                                                                 \n",
            " conv2d_2 (Conv2D)           (None, 3, 9, 48)          10416     \n",
            "                                                                 \n",
            " conv2d_3 (Conv2D)           (None, 3, 9, 64)          27712     \n",
            "                                                                 \n",
            " flatten (Flatten)           (None, 1728)              0         \n",
            "                                                                 \n",
            " dense (Dense)               (None, 24)                41496     \n",
            "                                                                 \n",
            " dense_1 (Dense)             (None, 3)                 75        \n",
            "                                                                 \n",
            "=================================================================\n",
            "Total params: 82,435\n",
            "Trainable params: 82,435\n",
            "Non-trainable params: 0\n",
            "_________________________________________________________________\n"
          ]
        }
      ]
    },
    {
      "cell_type": "code",
      "source": [
        "from tensorflow.keras.optimizers import *\n",
        "model.compile(SGD(lr=0.001),loss='categorical_crossentropy',metrics=['accuracy'])"
      ],
      "metadata": {
        "colab": {
          "base_uri": "https://localhost:8080/"
        },
        "id": "e2xmx0uQMv7E",
        "outputId": "38ea3747-e476-4f97-9a04-93fb9e7a7db9"
      },
      "execution_count": 14,
      "outputs": [
        {
          "output_type": "stream",
          "name": "stderr",
          "text": [
            "/usr/local/lib/python3.7/dist-packages/keras/optimizer_v2/gradient_descent.py:102: UserWarning: The `lr` argument is deprecated, use `learning_rate` instead.\n",
            "  super(SGD, self).__init__(name, **kwargs)\n"
          ]
        }
      ]
    },
    {
      "cell_type": "code",
      "source": [
        "model.fit(x_train,y_train,validation_split=0.2,batch_size=100,epochs=50,shuffle = True,verbose=2)"
      ],
      "metadata": {
        "colab": {
          "base_uri": "https://localhost:8080/"
        },
        "id": "FP98Uj3UNAeW",
        "outputId": "e46062be-2f99-4f01-f686-5b601130f20d"
      },
      "execution_count": 15,
      "outputs": [
        {
          "output_type": "stream",
          "name": "stdout",
          "text": [
            "Epoch 1/50\n",
            "20/20 - 2s - loss: 1.0247 - accuracy: 0.5109 - val_loss: 0.9577 - val_accuracy: 0.4303 - 2s/epoch - 75ms/step\n",
            "Epoch 2/50\n",
            "20/20 - 0s - loss: 0.9557 - accuracy: 0.5766 - val_loss: 0.9126 - val_accuracy: 0.4303 - 500ms/epoch - 25ms/step\n",
            "Epoch 3/50\n",
            "20/20 - 1s - loss: 0.8942 - accuracy: 0.6748 - val_loss: 0.8749 - val_accuracy: 0.6889 - 512ms/epoch - 26ms/step\n",
            "Epoch 4/50\n",
            "20/20 - 0s - loss: 0.8599 - accuracy: 0.6581 - val_loss: 0.8223 - val_accuracy: 0.6889 - 491ms/epoch - 25ms/step\n",
            "Epoch 5/50\n",
            "20/20 - 0s - loss: 0.8087 - accuracy: 0.7299 - val_loss: 0.7789 - val_accuracy: 0.6889 - 499ms/epoch - 25ms/step\n",
            "Epoch 6/50\n",
            "20/20 - 1s - loss: 0.7784 - accuracy: 0.7825 - val_loss: 0.7644 - val_accuracy: 0.6889 - 501ms/epoch - 25ms/step\n",
            "Epoch 7/50\n",
            "20/20 - 1s - loss: 0.7296 - accuracy: 0.8139 - val_loss: 0.7195 - val_accuracy: 0.6889 - 529ms/epoch - 26ms/step\n",
            "Epoch 8/50\n",
            "20/20 - 0s - loss: 0.7011 - accuracy: 0.8432 - val_loss: 0.6939 - val_accuracy: 0.6889 - 490ms/epoch - 24ms/step\n",
            "Epoch 9/50\n",
            "20/20 - 1s - loss: 0.6658 - accuracy: 0.8316 - val_loss: 0.6692 - val_accuracy: 0.8606 - 505ms/epoch - 25ms/step\n",
            "Epoch 10/50\n",
            "20/20 - 0s - loss: 0.6281 - accuracy: 0.8832 - val_loss: 0.6321 - val_accuracy: 0.6889 - 492ms/epoch - 25ms/step\n",
            "Epoch 11/50\n",
            "20/20 - 1s - loss: 0.5981 - accuracy: 0.8751 - val_loss: 0.5877 - val_accuracy: 1.0000 - 508ms/epoch - 25ms/step\n",
            "Epoch 12/50\n",
            "20/20 - 1s - loss: 0.5653 - accuracy: 0.9337 - val_loss: 0.5491 - val_accuracy: 1.0000 - 507ms/epoch - 25ms/step\n",
            "Epoch 13/50\n",
            "20/20 - 1s - loss: 0.5330 - accuracy: 0.9747 - val_loss: 0.5217 - val_accuracy: 1.0000 - 511ms/epoch - 26ms/step\n",
            "Epoch 14/50\n",
            "20/20 - 1s - loss: 0.5083 - accuracy: 0.9661 - val_loss: 0.5035 - val_accuracy: 0.8283 - 502ms/epoch - 25ms/step\n",
            "Epoch 15/50\n",
            "20/20 - 1s - loss: 0.4748 - accuracy: 0.9479 - val_loss: 0.5033 - val_accuracy: 0.8323 - 514ms/epoch - 26ms/step\n",
            "Epoch 16/50\n",
            "20/20 - 1s - loss: 0.4505 - accuracy: 0.9600 - val_loss: 0.4453 - val_accuracy: 1.0000 - 545ms/epoch - 27ms/step\n",
            "Epoch 17/50\n",
            "20/20 - 1s - loss: 0.4268 - accuracy: 1.0000 - val_loss: 0.4147 - val_accuracy: 1.0000 - 518ms/epoch - 26ms/step\n",
            "Epoch 18/50\n",
            "20/20 - 1s - loss: 0.3922 - accuracy: 0.9914 - val_loss: 0.3837 - val_accuracy: 1.0000 - 544ms/epoch - 27ms/step\n",
            "Epoch 19/50\n",
            "20/20 - 1s - loss: 0.3683 - accuracy: 1.0000 - val_loss: 0.3574 - val_accuracy: 1.0000 - 523ms/epoch - 26ms/step\n",
            "Epoch 20/50\n",
            "20/20 - 1s - loss: 0.3420 - accuracy: 1.0000 - val_loss: 0.3356 - val_accuracy: 1.0000 - 675ms/epoch - 34ms/step\n",
            "Epoch 21/50\n",
            "20/20 - 1s - loss: 0.3188 - accuracy: 1.0000 - val_loss: 0.3153 - val_accuracy: 1.0000 - 715ms/epoch - 36ms/step\n",
            "Epoch 22/50\n",
            "20/20 - 1s - loss: 0.3020 - accuracy: 1.0000 - val_loss: 0.2988 - val_accuracy: 1.0000 - 702ms/epoch - 35ms/step\n",
            "Epoch 23/50\n",
            "20/20 - 1s - loss: 0.2799 - accuracy: 1.0000 - val_loss: 0.2729 - val_accuracy: 1.0000 - 511ms/epoch - 26ms/step\n",
            "Epoch 24/50\n",
            "20/20 - 0s - loss: 0.2592 - accuracy: 1.0000 - val_loss: 0.2578 - val_accuracy: 1.0000 - 500ms/epoch - 25ms/step\n",
            "Epoch 25/50\n",
            "20/20 - 1s - loss: 0.2426 - accuracy: 1.0000 - val_loss: 0.2388 - val_accuracy: 1.0000 - 516ms/epoch - 26ms/step\n",
            "Epoch 26/50\n",
            "20/20 - 1s - loss: 0.2265 - accuracy: 1.0000 - val_loss: 0.2287 - val_accuracy: 1.0000 - 511ms/epoch - 26ms/step\n",
            "Epoch 27/50\n",
            "20/20 - 1s - loss: 0.2120 - accuracy: 1.0000 - val_loss: 0.2072 - val_accuracy: 1.0000 - 521ms/epoch - 26ms/step\n",
            "Epoch 28/50\n",
            "20/20 - 1s - loss: 0.1955 - accuracy: 1.0000 - val_loss: 0.1915 - val_accuracy: 1.0000 - 515ms/epoch - 26ms/step\n",
            "Epoch 29/50\n",
            "20/20 - 1s - loss: 0.1819 - accuracy: 1.0000 - val_loss: 0.1802 - val_accuracy: 1.0000 - 515ms/epoch - 26ms/step\n",
            "Epoch 30/50\n",
            "20/20 - 1s - loss: 0.1706 - accuracy: 1.0000 - val_loss: 0.1676 - val_accuracy: 1.0000 - 520ms/epoch - 26ms/step\n",
            "Epoch 31/50\n",
            "20/20 - 0s - loss: 0.1553 - accuracy: 1.0000 - val_loss: 0.1535 - val_accuracy: 1.0000 - 498ms/epoch - 25ms/step\n",
            "Epoch 32/50\n",
            "20/20 - 1s - loss: 0.1445 - accuracy: 1.0000 - val_loss: 0.1433 - val_accuracy: 1.0000 - 508ms/epoch - 25ms/step\n",
            "Epoch 33/50\n",
            "20/20 - 0s - loss: 0.1349 - accuracy: 1.0000 - val_loss: 0.1326 - val_accuracy: 1.0000 - 497ms/epoch - 25ms/step\n",
            "Epoch 34/50\n",
            "20/20 - 0s - loss: 0.1236 - accuracy: 1.0000 - val_loss: 0.1211 - val_accuracy: 1.0000 - 492ms/epoch - 25ms/step\n",
            "Epoch 35/50\n",
            "20/20 - 0s - loss: 0.1145 - accuracy: 1.0000 - val_loss: 0.1129 - val_accuracy: 1.0000 - 494ms/epoch - 25ms/step\n",
            "Epoch 36/50\n",
            "20/20 - 1s - loss: 0.1072 - accuracy: 1.0000 - val_loss: 0.1112 - val_accuracy: 1.0000 - 504ms/epoch - 25ms/step\n",
            "Epoch 37/50\n",
            "20/20 - 0s - loss: 0.0993 - accuracy: 1.0000 - val_loss: 0.0979 - val_accuracy: 1.0000 - 497ms/epoch - 25ms/step\n",
            "Epoch 38/50\n",
            "20/20 - 1s - loss: 0.0935 - accuracy: 1.0000 - val_loss: 0.0925 - val_accuracy: 1.0000 - 500ms/epoch - 25ms/step\n",
            "Epoch 39/50\n",
            "20/20 - 1s - loss: 0.0864 - accuracy: 1.0000 - val_loss: 0.0858 - val_accuracy: 1.0000 - 501ms/epoch - 25ms/step\n",
            "Epoch 40/50\n",
            "20/20 - 1s - loss: 0.0811 - accuracy: 1.0000 - val_loss: 0.0809 - val_accuracy: 1.0000 - 509ms/epoch - 25ms/step\n",
            "Epoch 41/50\n",
            "20/20 - 0s - loss: 0.0759 - accuracy: 1.0000 - val_loss: 0.0754 - val_accuracy: 1.0000 - 493ms/epoch - 25ms/step\n",
            "Epoch 42/50\n",
            "20/20 - 1s - loss: 0.0714 - accuracy: 1.0000 - val_loss: 0.0723 - val_accuracy: 1.0000 - 512ms/epoch - 26ms/step\n",
            "Epoch 43/50\n",
            "20/20 - 0s - loss: 0.0677 - accuracy: 1.0000 - val_loss: 0.0668 - val_accuracy: 1.0000 - 496ms/epoch - 25ms/step\n",
            "Epoch 44/50\n",
            "20/20 - 1s - loss: 0.0637 - accuracy: 1.0000 - val_loss: 0.0630 - val_accuracy: 1.0000 - 531ms/epoch - 27ms/step\n",
            "Epoch 45/50\n",
            "20/20 - 1s - loss: 0.0597 - accuracy: 1.0000 - val_loss: 0.0585 - val_accuracy: 1.0000 - 511ms/epoch - 26ms/step\n",
            "Epoch 46/50\n",
            "20/20 - 1s - loss: 0.0551 - accuracy: 1.0000 - val_loss: 0.0547 - val_accuracy: 1.0000 - 525ms/epoch - 26ms/step\n",
            "Epoch 47/50\n",
            "20/20 - 1s - loss: 0.0515 - accuracy: 1.0000 - val_loss: 0.0507 - val_accuracy: 1.0000 - 503ms/epoch - 25ms/step\n",
            "Epoch 48/50\n",
            "20/20 - 1s - loss: 0.0478 - accuracy: 1.0000 - val_loss: 0.0475 - val_accuracy: 1.0000 - 507ms/epoch - 25ms/step\n",
            "Epoch 49/50\n",
            "20/20 - 0s - loss: 0.0446 - accuracy: 1.0000 - val_loss: 0.0443 - val_accuracy: 1.0000 - 497ms/epoch - 25ms/step\n",
            "Epoch 50/50\n",
            "20/20 - 1s - loss: 0.0423 - accuracy: 1.0000 - val_loss: 0.0420 - val_accuracy: 1.0000 - 508ms/epoch - 25ms/step\n"
          ]
        },
        {
          "output_type": "execute_result",
          "data": {
            "text/plain": [
              "<keras.callbacks.History at 0x7f1f27145090>"
            ]
          },
          "metadata": {},
          "execution_count": 15
        }
      ]
    },
    {
      "cell_type": "code",
      "source": [
        "model.predict(x_test)"
      ],
      "metadata": {
        "colab": {
          "base_uri": "https://localhost:8080/"
        },
        "id": "0Ru48sXvPrUX",
        "outputId": "6c0ec47a-711a-4895-9eae-d961cf8f67de"
      },
      "execution_count": 19,
      "outputs": [
        {
          "output_type": "execute_result",
          "data": {
            "text/plain": [
              "array([[0.9920053 , 0.00206222, 0.00593246],\n",
              "       [0.9920053 , 0.00206222, 0.00593246],\n",
              "       [0.9777025 , 0.01880092, 0.00349664],\n",
              "       ...,\n",
              "       [0.0124171 , 0.04759888, 0.939984  ],\n",
              "       [0.01998973, 0.9177348 , 0.06227555],\n",
              "       [0.9920053 , 0.00206222, 0.00593245]], dtype=float32)"
            ]
          },
          "metadata": {},
          "execution_count": 19
        }
      ]
    },
    {
      "cell_type": "code",
      "source": [
        "score = model.evaluate(x_test, y_test, verbose = 0) \n",
        "\n",
        "print('Test loss:', score[0]) \n",
        "print('Test accuracy:', score[1])"
      ],
      "metadata": {
        "colab": {
          "base_uri": "https://localhost:8080/"
        },
        "id": "UjL5AAYJPwtj",
        "outputId": "2e2386f1-43be-4a00-a597-91a1183533db"
      },
      "execution_count": 20,
      "outputs": [
        {
          "output_type": "stream",
          "name": "stdout",
          "text": [
            "Test loss: 0.04077960550785065\n",
            "Test accuracy: 1.0\n"
          ]
        }
      ]
    }
  ]
}