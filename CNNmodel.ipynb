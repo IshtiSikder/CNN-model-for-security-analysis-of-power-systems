{
 "cells": [
  {
   "cell_type": "code",
   "execution_count": null,
   "id": "2f78cb01",
   "metadata": {},
   "outputs": [],
   "source": [
    "from pypower.api import case9, ppoption, runpf, printpf, makeB\n",
    "from scipy.sparse import dok_matrix\n",
    "from pypower.ppoption import ppoption\n",
    "from keras.utils import to_categorical\n",
    "import pandas as pd\n",
    "import numpy as np\n",
    "from tqdm import tqdm"
   ]
  },
  {
   "cell_type": "code",
   "execution_count": null,
   "id": "fcc6953d",
   "metadata": {},
   "outputs": [],
   "source": [
    "ppc = case9()\n",
    "\n",
    "bus = pd.DataFrame(ppc['bus'])\n",
    "bus[0] = bus[0] - 1\n",
    "ppc['bus'] = bus.to_numpy()\n",
    "\n",
    "branch = pd.DataFrame(ppc['branch'])\n",
    "branch[0] = branch[0] - 1\n",
    "branch[1] = branch[1] - 1\n",
    "ppc['branch'] = branch.to_numpy()"
   ]
  },
  {
   "cell_type": "code",
   "execution_count": null,
   "id": "09cabe9b",
   "metadata": {},
   "outputs": [],
   "source": [
    "org_branch = ppc['branch']\n",
    "org_bus = ppc['bus']\n",
    "data = {}"
   ]
  },
  {
   "cell_type": "code",
   "execution_count": null,
   "id": "90ec7e72",
   "metadata": {},
   "outputs": [],
   "source": [
    "def mcarlo(a,b):\n",
    "    for i in range(a,b):\n",
    "        bus = pd.DataFrame(org_bus) \n",
    "        bus.loc[4,2] = (bus.loc[4,2])*(np.random.uniform(0.8,1.2))\n",
    "        bus.loc[6,2] = (bus.loc[6,2])*(np.random.uniform(0.8,1.2))\n",
    "        bus.loc[8,2] = (bus.loc[8,2])*(np.random.uniform(0.8,1.2))\n",
    "        bus.loc[4,3] = (bus.loc[4,3])*(np.random.uniform(0.8,1.2))*(np.random.uniform(0.15,0.25))\n",
    "        bus.loc[6,3] = (bus.loc[6,3])*(np.random.uniform(0.8,1.2))*(np.random.uniform(0.15,0.25))\n",
    "        bus.loc[8,3] = (bus.loc[8,3])*(np.random.uniform(0.8,1.2))*(np.random.uniform(0.15,0.25))\n",
    "        bus[2] = bus[2]*-1\n",
    "        ppc['bus'] = np.array(bus)\n",
    "        ppc['branch'] = org_branch\n",
    "        row = np.random.randint(0,ppc['branch'].shape[0])\n",
    "        ppc['branch'] = np.delete(ppc['branch'],row,0)\n",
    "        ppopt = ppoption(PF_ALG=1)\n",
    "        try:\n",
    "            r = runpf(ppc, ppopt)\n",
    "            data[f'sim{i}'] = r\n",
    "            #lst_suc.append(((bus.loc[4,2],bus.loc[6,2],bus.loc[8,2]),(bus.loc[4,3],bus.loc[6,3],bus.loc[8,3])))\n",
    "        except:\n",
    "            #lst_fail.append(((bus.loc[4,2],bus.loc[6,2],bus.loc[8,2]),(bus.loc[4,3],bus.loc[6,3],bus.loc[8,3])))\n",
    "            continue"
   ]
  },
  {
   "cell_type": "code",
   "execution_count": null,
   "id": "5ae15481",
   "metadata": {},
   "outputs": [],
   "source": [
    "import multiprocessing\n",
    "\n",
    "for i in [[(1,10001),(10001,20001),(30001,40001),(40001,50001)]]:\n",
    "    \n",
    "    if __name__ == \"__main__\":\n",
    "        \n",
    "        p1 = multiprocessing.Process(target=mcarlo(i[0][0],i[0][1]))\n",
    "        p2 = multiprocessing.Process(target=mcarlo(i[1][0],i[1][1]))\n",
    "        p3 = multiprocessing.Process(target=mcarlo(i[2][0],i[2][1]))\n",
    "        p4 = multiprocessing.Process(target=mcarlo(i[3][0],i[3][1]))\n",
    "        #p5 = multiprocessing.Process(target=masti(i[4][0],i[4][1]))\n",
    "    \n",
    " \n",
    "        p1.start()\n",
    "        p2.start()\n",
    "        p3.start()\n",
    "        p4.start()\n",
    "        #p5.start()\n",
    "   \n",
    "        p1.join()\n",
    "        p2.join()\n",
    "        p3.join()\n",
    "        p4.join()\n",
    "        #p5.join()"
   ]
  },
  {
   "cell_type": "code",
   "execution_count": null,
   "id": "49c53c8e",
   "metadata": {},
   "outputs": [],
   "source": [
    "dupli = data.copy()"
   ]
  },
  {
   "cell_type": "code",
   "execution_count": null,
   "id": "062591ae",
   "metadata": {},
   "outputs": [],
   "source": [
    "bus_voltages = {}\n",
    "for i in data:\n",
    "    bus_voltages[f\"{i}\"] = pd.DataFrame(data[i][0]['order']['int']['bus'])[7]"
   ]
  },
  {
   "cell_type": "code",
   "execution_count": null,
   "id": "eb16537e",
   "metadata": {},
   "outputs": [],
   "source": [
    "print(('data:',len(data)),('bus_voltages:',len(bus_voltages)))"
   ]
  },
  {
   "cell_type": "code",
   "execution_count": null,
   "id": "310212cd",
   "metadata": {},
   "outputs": [],
   "source": [
    "limits = {'n':1,'desired_voltage':1,'alarm_low':0.93, 'alarm_up':1.07,'sec_low':0.90,'sec_up':1.10}"
   ]
  },
  {
   "cell_type": "code",
   "execution_count": null,
   "id": "b31fd562",
   "metadata": {},
   "outputs": [],
   "source": [
    "sec_ind = {}\n",
    "volsec_label = {}\n",
    "avoid = []\n",
    "#sum_1 = 0\n",
    "#sum_2 = 0\n",
    "g_up = (limits['sec_up']-limits['alarm_up'])/limits['desired_voltage']\n",
    "g_low = (limits['alarm_low']-limits['sec_low'])/limits['desired_voltage']\n",
    "#print('g_up:',g_up)\n",
    "#print('g_low:',g_low)\n",
    " \n",
    "#count = 0\n",
    "for i in bus_voltages:\n",
    "    #print(i)\n",
    "    sum_1 = 0\n",
    "    sum_2 = 0\n",
    "    for j in bus_voltages[i]:\n",
    "        #count += 1\n",
    "        #print(f\"\\n\\n no:{count} \\n\\n\")\n",
    "        if j > limits['alarm_up']:\n",
    "            #print(f\"{i} is greater than upper alarm limit {limits['alarm_up']}\")\n",
    "            d_up = (j - limits['alarm_up'])/limits['desired_voltage']\n",
    "            d_low = 0\n",
    "            #print('d_up:',d_up)\n",
    "            #print('d_low:',d_low)\n",
    "        elif j < limits['alarm_low']:\n",
    "            #print(f\"{i} is lower than lower alarm limit {limits['alarm_low']}\")\n",
    "            d_low = (limits['alarm_low'] - j)/limits['desired_voltage']\n",
    "            d_up = 0\n",
    "            #print('d_up:',d_up)\n",
    "            #print('d_low:',d_low)\n",
    "        else:\n",
    "            #print('amra nirapod re maola')\n",
    "            d_up = 0\n",
    "            d_low = 0\n",
    "            #print('d_up:',d_up)\n",
    "            #print('d_low:',d_low)\n",
    "        sum_1 += (d_up/g_up)**(2*limits['n']) \n",
    "        sum_2 += (d_low/g_low)**(2*limits['n'])\n",
    "    #print('sum 1:',sum_1)\n",
    "    #print('sum 2:',sum_2)\n",
    "    \n",
    "    sum = (sum_1 + sum_2)**(1/(2*limits['n']))\n",
    "    #sum = sum / 100\n",
    "    #sec_ind[i] = sum\n",
    "    if 0<= sum <= 2:\n",
    "        sec_ind[i] = sum\n",
    "    else:\n",
    "        avoid.append(i)\n",
    "\n",
    "\n",
    "#count = 0   \n",
    "for i in sec_ind:\n",
    "    if sec_ind[i] == 0:\n",
    "        volsec_label[f\"{i}\"] = 0\n",
    "        #print(\"index:\",sum)\n",
    "        #print(\"label:\",volsec_label[f\"{i}\"])\n",
    "        \n",
    "    elif 0 < sec_ind[i] <= 1:\n",
    "        #count += 1\n",
    "        #if count <= 6000:\n",
    "        volsec_label[f\"{i}\"] = 1\n",
    "        #else:\n",
    "            #avoid.append(i)\n",
    "        #print(\"index:\",sum)\n",
    "        #print(\"label:\",volsec_label[f\"{i}\"])\n",
    "    \n",
    "    else:\n",
    "        volsec_label[f\"{i}\"] = 2\n",
    "        #print(\"index:\",sum)\n",
    "        #print(\"label:\",volsec_label[f\"{i}\"])\n",
    "\n",
    "#for i in avoid:\n",
    "    #del data[i]\n",
    "\n"
   ]
  },
  {
   "cell_type": "code",
   "execution_count": null,
   "id": "cc216996",
   "metadata": {},
   "outputs": [],
   "source": [
    "print(('data:',len(data)),('bus_voltages:',len(bus_voltages)))"
   ]
  },
  {
   "cell_type": "code",
   "execution_count": null,
   "id": "f5c442d8",
   "metadata": {},
   "outputs": [],
   "source": [
    "len(sec_ind)"
   ]
  },
  {
   "cell_type": "code",
   "execution_count": null,
   "id": "46f8869f",
   "metadata": {},
   "outputs": [],
   "source": [
    "sum_0 = 0\n",
    "sum_1 = 0\n",
    "sum_2 = 0\n",
    "for i in volsec_label:\n",
    "    if volsec_label[i]==0:\n",
    "        sum_0 += 1\n",
    "    elif volsec_label[i] == 1:\n",
    "        sum_1 += 1\n",
    "    else:\n",
    "        sum_2 += 1\n",
    "        \n",
    "print(sum_0,sum_1,sum_2)  \n"
   ]
  },
  {
   "cell_type": "code",
   "execution_count": null,
   "id": "982477dc",
   "metadata": {},
   "outputs": [],
   "source": [
    "for i in avoid:\n",
    "    del data[i]"
   ]
  },
  {
   "cell_type": "code",
   "execution_count": null,
   "id": "710766e6",
   "metadata": {},
   "outputs": [],
   "source": [
    "len(data)"
   ]
  },
  {
   "cell_type": "code",
   "execution_count": null,
   "id": "8916ced4",
   "metadata": {},
   "outputs": [],
   "source": [
    "inp_bp = {}\n",
    "inp_bpp = {}\n",
    "\n",
    "for i in data:\n",
    "    baseMVA = data[i][0]['baseMVA']\n",
    "    bus = data[i][0]['bus']\n",
    "    branch = data[i][0]['branch']\n",
    "    bp,bpp = makeB(baseMVA,bus,branch,2) #the method '2' needs to be checked for what it is. Can other methods be used?\n",
    "    bp = np.diag(bp.toarray())\n",
    "    bpp = np.diag(bpp.toarray())\n",
    "    bus = pd.DataFrame(bus)\n",
    "    inp_bp[\"{}\".format(i)] = np.array([np.array(bus[2]),np.array(bus[3]),bp])\n",
    "    inp_bpp[\"{}\".format(i)] = np.array([np.array(bus[2]),np.array(bus[3]),bpp])\n",
    "    \n",
    "    #bp and bpp are the same ! Check."
   ]
  },
  {
   "cell_type": "code",
   "execution_count": null,
   "id": "1637bee5",
   "metadata": {},
   "outputs": [],
   "source": [
    "feed_bp = np.array(list(inp_bp.values()))\n",
    "label = np.array(list(volsec_label.values()))\n",
    "\n",
    "\n",
    "#traing samples 70% testing sample 30% of total simulations created\n",
    "x_train,x_test = np.split(feed_bp,[int(len(label)*0.8)])\n",
    "y_train,y_test = np.split(label,[int(len(label)*0.8)])\n",
    "\n",
    "\n",
    "x_train = x_train.reshape(len(x_train),x_train[0].shape[0],x_train[0].shape[1],1)\n",
    "x_test = x_test.reshape(len(x_test),x_test[0].shape[0],x_test[0].shape[1],1)\n",
    "\n",
    "y_train = to_categorical(y_train)\n",
    "y_test = to_categorical(y_test)"
   ]
  },
  {
   "cell_type": "code",
   "execution_count": null,
   "id": "b5204339",
   "metadata": {},
   "outputs": [],
   "source": [
    "from keras.models import Sequential\n",
    "from keras.layers import Dense, Conv2D, Flatten,Reshape, MaxPooling2D, Dropout\n",
    "from keras import regularizers"
   ]
  },
  {
   "cell_type": "code",
   "execution_count": null,
   "id": "b882207a",
   "metadata": {},
   "outputs": [],
   "source": [
    "#create model\n",
    "model = Sequential()\n",
    "#add model layers\n",
    "model.add(Conv2D(12, kernel_size=(3,3), padding ='same',activation='relu',input_shape = (3,9,1)))\n",
    "model.add(Conv2D(24, kernel_size=(3,3),padding ='same', activation='relu'))\n",
    "model.add(Conv2D(48, kernel_size=(3,3),padding ='same', activation='relu'))\n",
    "model.add(Conv2D(64, kernel_size=(3,3),padding ='same', activation='relu',kernel_regularizer = regularizers.l2(0.01)))\n",
    "#model.add(Conv2D(64, kernel_size=(3,3),padding ='same', activation='relu',kernel_regularizer = regularizers.l2(0.01)))\n",
    "\n",
    "#model.add(Reshape((model.get_layer('layer_4').output_shape[3],-1)))\n",
    "model.add(Flatten())\n",
    "model.add(Dense(64,activation='relu'))\n",
    "model.add(Dense(3, activation='softmax'))"
   ]
  },
  {
   "cell_type": "code",
   "execution_count": null,
   "id": "ffe92ac2",
   "metadata": {},
   "outputs": [],
   "source": [
    "model.summary()"
   ]
  },
  {
   "cell_type": "code",
   "execution_count": null,
   "id": "da017206",
   "metadata": {},
   "outputs": [],
   "source": [
    "from keras.optimizers import *\n",
    "model.compile(SGD(lr=0.001),loss='categorical_crossentropy',metrics=['accuracy'])"
   ]
  },
  {
   "cell_type": "code",
   "execution_count": null,
   "id": "5c33e263",
   "metadata": {},
   "outputs": [],
   "source": [
    "model.fit(x_train,y_train,validation_split=0.3,batch_size=100,epochs=40,shuffle = True,verbose=2)"
   ]
  },
  {
   "cell_type": "code",
   "execution_count": null,
   "id": "44b733da",
   "metadata": {},
   "outputs": [],
   "source": [
    "test = model.predict(x_test)"
   ]
  },
  {
   "cell_type": "code",
   "execution_count": null,
   "id": "dcea798b",
   "metadata": {},
   "outputs": [],
   "source": [
    "for i in range(test.shape[0]):\n",
    "    test[i][0] = round(test[i][0])\n",
    "    test[i][1] = round(test[i][1])\n",
    "    test[i][2] = round(test[i][2])"
   ]
  },
  {
   "cell_type": "code",
   "execution_count": null,
   "id": "60944c3f",
   "metadata": {},
   "outputs": [],
   "source": [
    "shonkha = 0\n",
    "for i in range(test.shape[0]):\n",
    "    if np.array_equal(test[i],y_test[i]):\n",
    "        shonkha+=1\n",
    "        \n",
    "print(shonkha/test.shape[0])\n",
    "    "
   ]
  }
 ],
 "metadata": {
  "kernelspec": {
   "display_name": "Python 3",
   "language": "python",
   "name": "python3"
  },
  "language_info": {
   "codemirror_mode": {
    "name": "ipython",
    "version": 3
   },
   "file_extension": ".py",
   "mimetype": "text/x-python",
   "name": "python",
   "nbconvert_exporter": "python",
   "pygments_lexer": "ipython3",
   "version": "3.7.10"
  }
 },
 "nbformat": 4,
 "nbformat_minor": 5
}
